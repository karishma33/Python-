{
 "cells": [
  {
   "cell_type": "markdown",
   "id": "8382d60b",
   "metadata": {},
   "source": [
    "https://www.stechies.com/doubleasterisks-python/"
   ]
  },
  {
   "cell_type": "code",
   "execution_count": 2,
   "id": "a062cde1",
   "metadata": {},
   "outputs": [
    {
     "name": "stdout",
     "output_type": "stream",
     "text": [
      "8\n",
      "<class 'int'>\n"
     ]
    }
   ],
   "source": [
    "x = pow(2, 3)\n",
    "print(x)\n",
    "print(type(x))"
   ]
  },
  {
   "cell_type": "code",
   "execution_count": 3,
   "id": "e8ff5a0c",
   "metadata": {},
   "outputs": [
    {
     "name": "stdout",
     "output_type": "stream",
     "text": [
      "4\n",
      "<class 'int'>\n"
     ]
    }
   ],
   "source": [
    "y=pow(2,2)\n",
    "print(y)\n",
    "print(type(y))"
   ]
  },
  {
   "cell_type": "markdown",
   "id": "3ea3718c",
   "metadata": {},
   "source": [
    "single-asterisks (*) unpacks an iterable into the arguments in a function call:"
   ]
  },
  {
   "cell_type": "code",
   "execution_count": 6,
   "id": "19037db1",
   "metadata": {},
   "outputs": [
    {
     "name": "stdout",
     "output_type": "stream",
     "text": [
      "apple banana grape orange\n",
      "apple banana grape orange\n"
     ]
    }
   ],
   "source": [
    "fruits = ['apple', 'banana', 'grape', 'orange']\n",
    "print(fruits[0], fruits[1], fruits[2], fruits[3])\n",
    "print(*fruits)"
   ]
  },
  {
   "cell_type": "markdown",
   "id": "6f71c5ae",
   "metadata": {},
   "source": [
    "Double-asterisks (**) also unpacks an iterable into the arguments in a function but only for keyword arguments. The Double-asterisks (**) operator permits to take a dictionary of key-value pairs and unpack it in keyword arguments in the function call"
   ]
  },
  {
   "cell_type": "code",
   "execution_count": 7,
   "id": "978a1b96",
   "metadata": {},
   "outputs": [
    {
     "name": "stdout",
     "output_type": "stream",
     "text": [
      "2000-03-04.txt\n"
     ]
    }
   ],
   "source": [
    "date_inf = {'year': \"2000\", 'month': \"03\", 'day': \"04\"}\n",
    "file = \"{year}-{month}-{day}.txt\".format(**date_inf)\n",
    "print(file) "
   ]
  },
  {
   "cell_type": "code",
   "execution_count": 11,
   "id": "e7e82d74",
   "metadata": {},
   "outputs": [
    {
     "name": "stdout",
     "output_type": "stream",
     "text": [
      "1 2 3 4 5 Apple Banana watermelon Grape\n"
     ]
    }
   ],
   "source": [
    "fruits = ['Apple', 'Banana', 'watermelon', 'Grape']\n",
    "numbers = [1, 2, 3, 4, 5]\n",
    "print(*numbers, *fruits)"
   ]
  },
  {
   "cell_type": "code",
   "execution_count": 12,
   "id": "e5efb5f6",
   "metadata": {},
   "outputs": [
    {
     "name": "stdout",
     "output_type": "stream",
     "text": [
      "AFTER MERGING:  {'val1': 10, 'val2': 20, 'val3': 30, 'val4': 40}\n"
     ]
    }
   ],
   "source": [
    "A = {'val1': 10, 'val2': 20}\n",
    "B = {'val3': 30, 'val4': 40}\n",
    "# Merging d1 and d2\n",
    "C = {**A, **B}\n",
    "print(\"AFTER MERGING: \", C)"
   ]
  },
  {
   "cell_type": "code",
   "execution_count": 1,
   "id": "35d38676",
   "metadata": {},
   "outputs": [
    {
     "data": {
      "text/plain": [
       "'C:\\\\Users\\\\SevenMentor\\\\1A. Python'"
      ]
     },
     "execution_count": 1,
     "metadata": {},
     "output_type": "execute_result"
    }
   ],
   "source": [
    "pwd"
   ]
  },
  {
   "cell_type": "code",
   "execution_count": null,
   "id": "4281dac6",
   "metadata": {},
   "outputs": [],
   "source": []
  }
 ],
 "metadata": {
  "kernelspec": {
   "display_name": "Python 3 (ipykernel)",
   "language": "python",
   "name": "python3"
  },
  "language_info": {
   "codemirror_mode": {
    "name": "ipython",
    "version": 3
   },
   "file_extension": ".py",
   "mimetype": "text/x-python",
   "name": "python",
   "nbconvert_exporter": "python",
   "pygments_lexer": "ipython3",
   "version": "3.9.13"
  }
 },
 "nbformat": 4,
 "nbformat_minor": 5
}
