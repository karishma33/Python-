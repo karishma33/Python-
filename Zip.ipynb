{
 "cells": [
  {
   "cell_type": "markdown",
   "id": "b2bf790f",
   "metadata": {},
   "source": [
    "Ever wondered how we can take one element each from two different lists and make them as a pair and put them in a new list? Well this concept apart from being interesting is very useful in many specialization areas. Let’s get introduced to zip function in Python in the Following order:\n",
    "\n"
   ]
  },
  {
   "cell_type": "code",
   "execution_count": 1,
   "id": "13626380",
   "metadata": {},
   "outputs": [
    {
     "name": "stdout",
     "output_type": "stream",
     "text": [
      "<zip object at 0x000001FE56B95840>\n",
      "<class 'zip'>\n",
      "[('Eng', 23), ('SS', 22), ('Maths', 25)]\n"
     ]
    }
   ],
   "source": [
    "list1 = [23, 22, 25]\n",
    "list2 = ['Eng', 'SS', 'Maths']\n",
    "\n",
    "# Zip the two lists\n",
    "zipped = zip(list2, list1)\n",
    "\n",
    "print(zipped)\n",
    "print(type(zipped))\n",
    "# Convert the zipped object to a list of tuples\n",
    "zipped_list = list(zipped)\n",
    "\n",
    "print(zipped_list)\n"
   ]
  },
  {
   "cell_type": "code",
   "execution_count": 6,
   "id": "d2399b3c",
   "metadata": {},
   "outputs": [
    {
     "name": "stdout",
     "output_type": "stream",
     "text": [
      "(23, 'Eng')\n",
      "(22, 'SS')\n",
      "(25, 'Maths')\n"
     ]
    }
   ],
   "source": [
    "for item in zipped_list: \n",
    "    print(item)"
   ]
  },
  {
   "cell_type": "code",
   "execution_count": 17,
   "id": "2edb6133",
   "metadata": {},
   "outputs": [
    {
     "name": "stdout",
     "output_type": "stream",
     "text": [
      "<zip object at 0x0000016E894F2FC0>\n",
      "<class 'zip'>\n",
      "(23, 22, 25)\n",
      "('Eng', 'SS', 'Maths')\n"
     ]
    }
   ],
   "source": [
    "zipped_list = [(23, 'Eng'), (22, 'SS'), (25, 'Maths')]\n",
    "\n",
    "# Unzip the list of tuples\n",
    "unzipped = zip(*zipped_list)\n",
    "print(unzipped)\n",
    "print(type(unzipped))\n",
    "# Convert the unzipped object to separate lists\n",
    "unzipped_list1, unzipped_list2 = list(unzipped)\n",
    "\n",
    "print(unzipped_list1)\n",
    "print(unzipped_list2)\n"
   ]
  },
  {
   "cell_type": "code",
   "execution_count": 18,
   "id": "e5ac5b9b",
   "metadata": {},
   "outputs": [
    {
     "name": "stdout",
     "output_type": "stream",
     "text": [
      "[('Jane', 'Doe', 20), ('John', 'Williams', 40), ('Jennifer', 'Smith', 30)]\n",
      "<class 'list'>\n"
     ]
    }
   ],
   "source": [
    "first_names = ['Jane', 'John', 'Jennifer']\n",
    "last_names = ['Doe', 'Williams', 'Smith']\n",
    "ages = [20, 40, 30]\n",
    "names_and_ages = list(zip(first_names, last_names, ages))\n",
    "print(names_and_ages)\n",
    "print(type(names_and_ages))"
   ]
  },
  {
   "cell_type": "code",
   "execution_count": 19,
   "id": "297204d5",
   "metadata": {},
   "outputs": [],
   "source": [
    "names_and_ages = [('Jane', 'Doe', 20), ('John', 'Williams', 40), ('Jennifer', 'Smith', 30)]"
   ]
  },
  {
   "cell_type": "code",
   "execution_count": 20,
   "id": "6d43a65b",
   "metadata": {},
   "outputs": [
    {
     "data": {
      "text/plain": [
       "[('Jane', 'Doe', 20), ('John', 'Williams', 40), ('Jennifer', 'Smith', 30)]"
      ]
     },
     "execution_count": 20,
     "metadata": {},
     "output_type": "execute_result"
    }
   ],
   "source": [
    "names_and_ages"
   ]
  },
  {
   "cell_type": "code",
   "execution_count": 21,
   "id": "8f89343c",
   "metadata": {},
   "outputs": [],
   "source": [
    "unzip=zip(*names_and_ages)\n",
    "unzip_list1,unzip_list2,unzip_list3 =list(unzip)"
   ]
  },
  {
   "cell_type": "code",
   "execution_count": 22,
   "id": "0235459a",
   "metadata": {},
   "outputs": [
    {
     "name": "stdout",
     "output_type": "stream",
     "text": [
      "('Jane', 'John', 'Jennifer')\n",
      "('Doe', 'Williams', 'Smith')\n",
      "(20, 40, 30)\n"
     ]
    }
   ],
   "source": [
    "print(unzip_list1)\n",
    "print(unzip_list2)\n",
    "print(unzip_list3)"
   ]
  },
  {
   "cell_type": "code",
   "execution_count": 8,
   "id": "faef9241",
   "metadata": {},
   "outputs": [
    {
     "name": "stdout",
     "output_type": "stream",
     "text": [
      "[('Jane',), ('John',), ('Jennifer',)]\n"
     ]
    }
   ],
   "source": [
    "# Passing in one argument to zip()\n",
    "\n",
    "first_names = ['Jane', 'John', 'Jennifer']\n",
    "print(list(zip(first_names)))\n"
   ]
  },
  {
   "cell_type": "markdown",
   "id": "9e7a1abd",
   "metadata": {},
   "source": [
    "#### Iterables with unequal lengths\n",
    "\n",
    "\n",
    "What if we pass in lists (or other iterable objects) of unequal lengths? In other words, let’s say that our last_names list contains 1 more element than first_names. Well, as mentioned above, the iterator returned by the zip() function will stop once the shortest input iterable has been exhausted. In other words, our list of tuples will only contain the elements from the indexes that are present in all the iterables passed in to the zip() function. Thus, the remaining elements in the longer iterables will be ignored.\n",
    "\n"
   ]
  },
  {
   "cell_type": "code",
   "execution_count": 23,
   "id": "85d82218",
   "metadata": {},
   "outputs": [
    {
     "name": "stdout",
     "output_type": "stream",
     "text": [
      "[('Jane', 'Doe'), ('John', 'Williams'), ('Jennifer', 'Smith')]\n"
     ]
    }
   ],
   "source": [
    "first_names = ['Jane', 'John', 'Jennifer']\n",
    "last_names = ['Doe', 'Williams', 'Smith', 'Jones']\n",
    "full_names = list(zip(first_names, last_names))\n",
    "print(full_names)"
   ]
  },
  {
   "cell_type": "markdown",
   "id": "3aa3e884",
   "metadata": {},
   "source": [
    "  If the elements in the longer iterables are needed, then we can use the itertools.zip_longest() (zip_longest() function located in the itertools module) function instead of zip(). It will continue until the longest iterable is exhausted, and will replace any missing values with the value passed in for the fillvalue argument (default is None)."
   ]
  },
  {
   "cell_type": "code",
   "execution_count": 25,
   "id": "6ff06925",
   "metadata": {},
   "outputs": [
    {
     "name": "stdout",
     "output_type": "stream",
     "text": [
      "[('Jane', 'Doe'), ('John', 'Williams'), ('Jennifer', 'Smith'), ('', 'Jones'), ('', 'Ringrose')]\n"
     ]
    }
   ],
   "source": [
    "from itertools import zip_longest\n",
    "\n",
    "first_names = ['Jane', 'John', 'Jennifer']\n",
    "last_names = ['Doe', 'Williams', 'Smith', 'Jones', 'Ringrose']\n",
    "\n",
    "# Zip the iterables using zip_longest\n",
    "full_names = list(zip_longest(first_names, last_names, fillvalue=''))\n",
    "\n",
    "print(full_names)"
   ]
  },
  {
   "cell_type": "code",
   "execution_count": 24,
   "id": "f059227d",
   "metadata": {},
   "outputs": [
    {
     "name": "stdout",
     "output_type": "stream",
     "text": [
      "[('Jane', 'Doe'), ('John', 'Williams'), ('Jennifer', 'Smith'), (None, 'Jones')]\n"
     ]
    }
   ],
   "source": [
    "from itertools import zip_longest\n",
    "\n",
    "first_names = ['Jane', 'John', 'Jennifer']\n",
    "last_names = ['Doe', 'Williams', 'Smith', 'Jones']\n",
    "\n",
    "# Zip the iterables using zip_longest\n",
    "full_names = list(zip_longest(first_names, last_names, fillvalue=None))\n",
    "\n",
    "print(full_names)"
   ]
  },
  {
   "cell_type": "markdown",
   "id": "51960caa",
   "metadata": {},
   "source": [
    "Parallel Iteration of Iterables\n"
   ]
  },
  {
   "cell_type": "markdown",
   "id": "90a29e5e",
   "metadata": {},
   "source": [
    "We can use the zip() function to iterate in parallel over multiple iterables. Since the zip() function returns an iterator, we can use this zip object (the iterator it returns) in a for loop. And since with each iteration of this iterator a tuple is returned, we can unpack the elements of this tuple within the for loop:\n",
    "\n"
   ]
  },
  {
   "cell_type": "code",
   "execution_count": 12,
   "id": "01a06e9a",
   "metadata": {},
   "outputs": [
    {
     "name": "stdout",
     "output_type": "stream",
     "text": [
      "Jane Doe\n",
      "John Williams\n",
      "Jennifer Smith\n"
     ]
    }
   ],
   "source": [
    "first_names = ['Jane', 'John', 'Jennifer']\n",
    "last_names = ['Doe', 'Williams', 'Smith']\n",
    "for first, last in zip(first_names, last_names):\n",
    "    print(first, last)"
   ]
  },
  {
   "cell_type": "markdown",
   "id": "f099a205",
   "metadata": {},
   "source": [
    "Or we can have three iterables:\n",
    "\n"
   ]
  },
  {
   "cell_type": "code",
   "execution_count": 13,
   "id": "3459e95d",
   "metadata": {},
   "outputs": [
    {
     "name": "stdout",
     "output_type": "stream",
     "text": [
      "Jane Doe is 20 years old\n",
      "John Williams is 40 years old\n",
      "Jennifer Smith is 30 years old\n"
     ]
    }
   ],
   "source": [
    "first_names = ['Jane', 'John', 'Jennifer']\n",
    "last_names = ['Doe', 'Williams', 'Smith']\n",
    "ages = [20, 40, 30]\n",
    "for first, last, age in zip(first_names, last_names, ages):\n",
    "    print(f'{first} {last} is {age} years old')\n"
   ]
  },
  {
   "cell_type": "markdown",
   "id": "f65c28a1",
   "metadata": {},
   "source": [
    "Another example of parallel iteration:\n",
    "\n"
   ]
  },
  {
   "cell_type": "markdown",
   "id": "a0e3d413",
   "metadata": {},
   "source": [
    "We have two lists: a list of revenues and a list of costs. We would like to make a new list, profits, that is the difference between the revenues and costs. We can accomplish this using parallel iteration:\n",
    "\n"
   ]
  },
  {
   "cell_type": "code",
   "execution_count": 27,
   "id": "ea5a1cbd",
   "metadata": {},
   "outputs": [
    {
     "name": "stdout",
     "output_type": "stream",
     "text": [
      "200\n",
      "550\n",
      "1050\n",
      "1650\n",
      "Final profit [200, 350, 500, 600]\n",
      "Final total profit 1650\n"
     ]
    }
   ],
   "source": [
    "revenue = [300, 500, 700, 900]\n",
    "cost = [100, 150, 200, 300]\n",
    "profit = []\n",
    "total_profit = 0\n",
    "for revenue, cost in zip(revenue, cost):\n",
    "    profit.append(revenue - cost)\n",
    "    total_profit = total_profit + revenue - cost\n",
    "    print(total_profit)\n",
    "print('Final profit', profit)\n",
    "print('Final total profit', total_profit)"
   ]
  },
  {
   "cell_type": "markdown",
   "id": "80b082d2",
   "metadata": {},
   "source": [
    "Unzipping in python\n"
   ]
  },
  {
   "cell_type": "code",
   "execution_count": 16,
   "id": "a58a6376",
   "metadata": {},
   "outputs": [],
   "source": [
    "first_and_last_names = [('Jane', 'Doe'), ('John', 'Williams'), ('Jennifer', 'Smith')]"
   ]
  },
  {
   "cell_type": "markdown",
   "id": "b4cc51f6",
   "metadata": {},
   "source": [
    "And we want to separate the elements in these tuples into two separate lists. Well, since that is the opposite of zipping (bringing things together), it would be unzipping (taking things apart). To unzip in python, we can use the unpacking operator * with the zip() function as follows:\n",
    "\n"
   ]
  },
  {
   "cell_type": "code",
   "execution_count": 17,
   "id": "ce6cffb8",
   "metadata": {},
   "outputs": [
    {
     "name": "stdout",
     "output_type": "stream",
     "text": [
      "['Jane', 'John', 'Jennifer']\n",
      "['Doe', 'Williams', 'Smith']\n"
     ]
    }
   ],
   "source": [
    "first_names, last_names = zip(*first_and_last_names)\n",
    "first_names = list(first_names)\n",
    "last_names = list(last_names)\n",
    "print(first_names)\n",
    "print(last_names)"
   ]
  },
  {
   "cell_type": "markdown",
   "id": "c4d0fb62",
   "metadata": {},
   "source": [
    "The unpacking operator * will unpack the first_and_last_names list of tuples into its tuples. These tuples will then be passed to the zip() function, which will take these separate iterable objects (the tuples), and combines their same-indexed elements together into tuples, making two separate tuples. Lastly, through tuple unpacking, these separated tuples will be assigned to the first_names and last_names variables. We then use the list() function to convert these tuples into lists."
   ]
  },
  {
   "cell_type": "code",
   "execution_count": 18,
   "id": "ff5add50",
   "metadata": {},
   "outputs": [
    {
     "data": {
      "text/plain": [
       "'C:\\\\Users\\\\SevenMentor\\\\1A. Python'"
      ]
     },
     "execution_count": 18,
     "metadata": {},
     "output_type": "execute_result"
    }
   ],
   "source": [
    "pwd"
   ]
  },
  {
   "cell_type": "code",
   "execution_count": 8,
   "id": "275fee73",
   "metadata": {},
   "outputs": [],
   "source": [
    "def example(a, b):\n",
    "    print(a, type(a))\n",
    "    print(b, type(b))"
   ]
  },
  {
   "cell_type": "code",
   "execution_count": 9,
   "id": "a892720e",
   "metadata": {
    "scrolled": true
   },
   "outputs": [
    {
     "name": "stdout",
     "output_type": "stream",
     "text": [
      "10 <class 'int'>\n",
      "23.67 <class 'float'>\n"
     ]
    }
   ],
   "source": [
    "example(10,23.67)"
   ]
  },
  {
   "cell_type": "code",
   "execution_count": 11,
   "id": "bc2bd614",
   "metadata": {},
   "outputs": [
    {
     "name": "stdout",
     "output_type": "stream",
     "text": [
      "(0, 1) <class 'tuple'>\n",
      "2 <class 'int'>\n"
     ]
    }
   ],
   "source": [
    "example((0, 1), 2)"
   ]
  },
  {
   "cell_type": "code",
   "execution_count": 16,
   "id": "8c53592f",
   "metadata": {},
   "outputs": [
    {
     "ename": "TypeError",
     "evalue": "example() takes 2 positional arguments but 3 were given",
     "output_type": "error",
     "traceback": [
      "\u001b[1;31m---------------------------------------------------------------------------\u001b[0m",
      "\u001b[1;31mTypeError\u001b[0m                                 Traceback (most recent call last)",
      "\u001b[1;32m~\\AppData\\Local\\Temp\\ipykernel_9140\\4260402754.py\u001b[0m in \u001b[0;36m<module>\u001b[1;34m\u001b[0m\n\u001b[1;32m----> 1\u001b[1;33m \u001b[0mexample\u001b[0m\u001b[1;33m(\u001b[0m\u001b[1;33m*\u001b[0m\u001b[1;33m(\u001b[0m\u001b[1;36m90\u001b[0m\u001b[1;33m,\u001b[0m\u001b[1;36m20.56\u001b[0m\u001b[1;33m,\u001b[0m \u001b[1;36m78\u001b[0m\u001b[1;33m)\u001b[0m\u001b[1;33m)\u001b[0m\u001b[1;33m\u001b[0m\u001b[1;33m\u001b[0m\u001b[0m\n\u001b[0m",
      "\u001b[1;31mTypeError\u001b[0m: example() takes 2 positional arguments but 3 were given"
     ]
    }
   ],
   "source": [
    "example(*(90,20.56, 78))"
   ]
  },
  {
   "cell_type": "code",
   "execution_count": 2,
   "id": "cb6081e5",
   "metadata": {},
   "outputs": [],
   "source": [
    "sub = ['a', 'b','c']\n",
    "marks = [7, 9, 8]"
   ]
  },
  {
   "cell_type": "code",
   "execution_count": 4,
   "id": "71043783",
   "metadata": {},
   "outputs": [],
   "source": [
    "zipped_object = zip(sub,marks)"
   ]
  },
  {
   "cell_type": "code",
   "execution_count": 5,
   "id": "58d2acef",
   "metadata": {},
   "outputs": [
    {
     "data": {
      "text/plain": [
       "zip"
      ]
     },
     "execution_count": 5,
     "metadata": {},
     "output_type": "execute_result"
    }
   ],
   "source": [
    "type(zipped_object)"
   ]
  },
  {
   "cell_type": "code",
   "execution_count": 6,
   "id": "c3825538",
   "metadata": {},
   "outputs": [
    {
     "name": "stdout",
     "output_type": "stream",
     "text": [
      "[('a', 7), ('b', 9), ('c', 8)]\n"
     ]
    }
   ],
   "source": [
    "result = list(zipped_object)\n",
    "print(result)"
   ]
  },
  {
   "cell_type": "code",
   "execution_count": null,
   "id": "7a9c525d",
   "metadata": {},
   "outputs": [],
   "source": []
  }
 ],
 "metadata": {
  "kernelspec": {
   "display_name": "Python 3 (ipykernel)",
   "language": "python",
   "name": "python3"
  },
  "language_info": {
   "codemirror_mode": {
    "name": "ipython",
    "version": 3
   },
   "file_extension": ".py",
   "mimetype": "text/x-python",
   "name": "python",
   "nbconvert_exporter": "python",
   "pygments_lexer": "ipython3",
   "version": "3.9.13"
  }
 },
 "nbformat": 4,
 "nbformat_minor": 5
}
