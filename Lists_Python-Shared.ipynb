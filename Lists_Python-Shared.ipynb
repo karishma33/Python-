{
 "cells": [
  {
   "cell_type": "markdown",
   "id": "88638292",
   "metadata": {},
   "source": [
    " Lists are probably the most used data structure in Python"
   ]
  },
  {
   "cell_type": "markdown",
   "id": "d5a70a26",
   "metadata": {},
   "source": [
    "Declare an Empty List in Python\n"
   ]
  },
  {
   "cell_type": "code",
   "execution_count": 1,
   "id": "1c474755",
   "metadata": {},
   "outputs": [
    {
     "name": "stdout",
     "output_type": "stream",
     "text": [
      "Values of a: []\n",
      "Type of a: <class 'list'>\n",
      "Size of a: 0\n"
     ]
    }
   ],
   "source": [
    "# Python program to declare\n",
    "# empty list\n",
    "\n",
    "# list is declared\n",
    "a = []\t\t\n",
    "\n",
    "print(\"Values of a:\", a)\n",
    "print(\"Type of a:\", type(a))\n",
    "print(\"Size of a:\", len(a))\n"
   ]
  },
  {
   "cell_type": "code",
   "execution_count": 32,
   "id": "55cf7b93",
   "metadata": {},
   "outputs": [
    {
     "name": "stdout",
     "output_type": "stream",
     "text": [
      "Values of a: []\n",
      "Type of a: <class 'list'>\n",
      "Size of a: 0\n"
     ]
    }
   ],
   "source": [
    "#  we will create a Python empty list using the list() constructor \n",
    "# Python program to create\n",
    "# empty list\n",
    "\n",
    "# list is declared\n",
    "a = list()\n",
    "\n",
    "print(\"Values of a:\", a)\n",
    "print(\"Type of a:\", type(a))\n",
    "print(\"Size of a:\", len(a))\n"
   ]
  },
  {
   "cell_type": "code",
   "execution_count": 33,
   "id": "3d3ede66",
   "metadata": {},
   "outputs": [
    {
     "name": "stdout",
     "output_type": "stream",
     "text": [
      "Values of a: [10, 20, 30]\n",
      "Type of a: <class 'list'>\n",
      "Size of a: 3\n"
     ]
    }
   ],
   "source": [
    "# create an empty list\n",
    "a = []\n",
    " \n",
    "# append items to it\n",
    "a.append(10)\n",
    "a.append(20)\n",
    "a.append(30)\n",
    " \n",
    "print(\"Values of a:\", a)\n",
    "print(\"Type of a:\", type(a))\n",
    "print(\"Size of a:\", len(a))"
   ]
  },
  {
   "cell_type": "code",
   "execution_count": null,
   "id": "32c95f16",
   "metadata": {},
   "outputs": [],
   "source": []
  },
  {
   "cell_type": "code",
   "execution_count": 9,
   "id": "03d00e28",
   "metadata": {},
   "outputs": [
    {
     "name": "stdout",
     "output_type": "stream",
     "text": [
      "abc\n",
      "1583649783920\n",
      "vbc\n",
      "1583727445808\n"
     ]
    }
   ],
   "source": [
    "d =\"abc\"\n",
    "print(d)\n",
    "print(id(d))\n",
    "d= d.replace(\"a\",\"v\")\n",
    "print(d)\n",
    "print(id(d))"
   ]
  },
  {
   "cell_type": "code",
   "execution_count": 5,
   "id": "32bd3f83",
   "metadata": {},
   "outputs": [
    {
     "name": "stdout",
     "output_type": "stream",
     "text": [
      "vbc\n"
     ]
    }
   ],
   "source": [
    "print(d)"
   ]
  },
  {
   "cell_type": "code",
   "execution_count": 8,
   "id": "45c0bee0",
   "metadata": {},
   "outputs": [
    {
     "name": "stdout",
     "output_type": "stream",
     "text": [
      "1583726763264\n",
      "1583726763264\n"
     ]
    }
   ],
   "source": [
    "a=[1,2,3]\n",
    "print(id(a))\n",
    "a[0]=11\n",
    "print(id(a))\n"
   ]
  },
  {
   "cell_type": "code",
   "execution_count": null,
   "id": "f0554f16",
   "metadata": {},
   "outputs": [],
   "source": []
  },
  {
   "cell_type": "code",
   "execution_count": null,
   "id": "cda8d913",
   "metadata": {},
   "outputs": [],
   "source": []
  },
  {
   "cell_type": "code",
   "execution_count": 2,
   "id": "66e922b2",
   "metadata": {},
   "outputs": [],
   "source": [
    "first_list = ['Mark', 101, 23.6, 'test', 11]"
   ]
  },
  {
   "cell_type": "code",
   "execution_count": 3,
   "id": "a1eb7638",
   "metadata": {},
   "outputs": [
    {
     "data": {
      "text/plain": [
       "5"
      ]
     },
     "execution_count": 3,
     "metadata": {},
     "output_type": "execute_result"
    }
   ],
   "source": [
    "len(first_list)"
   ]
  },
  {
   "cell_type": "code",
   "execution_count": 4,
   "id": "c4b076d7",
   "metadata": {},
   "outputs": [
    {
     "data": {
      "text/plain": [
       "['Mark', 101, 23.6, 'test', 11]"
      ]
     },
     "execution_count": 4,
     "metadata": {},
     "output_type": "execute_result"
    }
   ],
   "source": [
    "first_list"
   ]
  },
  {
   "cell_type": "code",
   "execution_count": 5,
   "id": "e05e90cf",
   "metadata": {},
   "outputs": [],
   "source": [
    "first_list.insert(1,\"Smith\")"
   ]
  },
  {
   "cell_type": "code",
   "execution_count": 5,
   "id": "805af9f3",
   "metadata": {},
   "outputs": [
    {
     "data": {
      "text/plain": [
       "['Mark', 'Smith', 101, 23.6, 'test', 11]"
      ]
     },
     "execution_count": 5,
     "metadata": {},
     "output_type": "execute_result"
    }
   ],
   "source": [
    "first_list"
   ]
  },
  {
   "cell_type": "code",
   "execution_count": 6,
   "id": "d08cc429",
   "metadata": {},
   "outputs": [],
   "source": [
    "first_list.append('Jack')"
   ]
  },
  {
   "cell_type": "code",
   "execution_count": 8,
   "id": "75d51a5b",
   "metadata": {},
   "outputs": [
    {
     "data": {
      "text/plain": [
       "['Mark', 'Smith', 101, 23.6, 'test', 11, 'Jack']"
      ]
     },
     "execution_count": 8,
     "metadata": {},
     "output_type": "execute_result"
    }
   ],
   "source": [
    "first_list"
   ]
  },
  {
   "cell_type": "code",
   "execution_count": 9,
   "id": "f5817212",
   "metadata": {},
   "outputs": [],
   "source": [
    "first_list.append(['a', 'b','c'])"
   ]
  },
  {
   "cell_type": "code",
   "execution_count": 9,
   "id": "30efc98a",
   "metadata": {},
   "outputs": [
    {
     "data": {
      "text/plain": [
       "['Mark', 'Smith', 101, 23.6, 'test', 11, ['a', 'b', 'c'], ['a', 'b', 'c']]"
      ]
     },
     "execution_count": 9,
     "metadata": {},
     "output_type": "execute_result"
    }
   ],
   "source": [
    "first_list"
   ]
  },
  {
   "cell_type": "code",
   "execution_count": 11,
   "id": "b6fae647",
   "metadata": {},
   "outputs": [
    {
     "data": {
      "text/plain": [
       "8"
      ]
     },
     "execution_count": 11,
     "metadata": {},
     "output_type": "execute_result"
    }
   ],
   "source": [
    "len(first_list)"
   ]
  },
  {
   "cell_type": "code",
   "execution_count": 12,
   "id": "ed2f05a3",
   "metadata": {},
   "outputs": [],
   "source": [
    "first_list.extend(['a', 'b','c'])"
   ]
  },
  {
   "cell_type": "code",
   "execution_count": 13,
   "id": "605ca1e3",
   "metadata": {},
   "outputs": [
    {
     "data": {
      "text/plain": [
       "['Mark',\n",
       " 'Smith',\n",
       " 101,\n",
       " 23.6,\n",
       " 'test',\n",
       " 11,\n",
       " ['a', 'b', 'c'],\n",
       " ['a', 'b', 'c'],\n",
       " 'a',\n",
       " 'b',\n",
       " 'c']"
      ]
     },
     "execution_count": 13,
     "metadata": {},
     "output_type": "execute_result"
    }
   ],
   "source": [
    "first_list"
   ]
  },
  {
   "cell_type": "code",
   "execution_count": 14,
   "id": "c8299b25",
   "metadata": {},
   "outputs": [
    {
     "data": {
      "text/plain": [
       "11"
      ]
     },
     "execution_count": 14,
     "metadata": {},
     "output_type": "execute_result"
    }
   ],
   "source": [
    "len(first_list)"
   ]
  },
  {
   "cell_type": "code",
   "execution_count": 15,
   "id": "62efdaf5",
   "metadata": {},
   "outputs": [],
   "source": [
    "first_list[0]='John'"
   ]
  },
  {
   "cell_type": "code",
   "execution_count": 16,
   "id": "cbc90372",
   "metadata": {},
   "outputs": [
    {
     "data": {
      "text/plain": [
       "['John',\n",
       " 'Smith',\n",
       " 101,\n",
       " 23.6,\n",
       " 'test',\n",
       " 11,\n",
       " ['a', 'b', 'c'],\n",
       " ['a', 'b', 'c'],\n",
       " 'a',\n",
       " 'b',\n",
       " 'c']"
      ]
     },
     "execution_count": 16,
     "metadata": {},
     "output_type": "execute_result"
    }
   ],
   "source": [
    "first_list"
   ]
  },
  {
   "cell_type": "code",
   "execution_count": 17,
   "id": "f69596a2",
   "metadata": {},
   "outputs": [
    {
     "data": {
      "text/plain": [
       "['a', 'b', 'c']"
      ]
     },
     "execution_count": 17,
     "metadata": {},
     "output_type": "execute_result"
    }
   ],
   "source": [
    "first_list.pop(7)"
   ]
  },
  {
   "cell_type": "code",
   "execution_count": 28,
   "id": "75afff70",
   "metadata": {},
   "outputs": [
    {
     "data": {
      "text/plain": [
       "['John', 'Smith', 101, 23.6, 'test', 11, ['a', 'b', 'c'], 'a', 'b', 'c']"
      ]
     },
     "execution_count": 28,
     "metadata": {},
     "output_type": "execute_result"
    }
   ],
   "source": [
    "first_list"
   ]
  },
  {
   "cell_type": "code",
   "execution_count": 29,
   "id": "318309e2",
   "metadata": {},
   "outputs": [
    {
     "data": {
      "text/plain": [
       "['John', 'Smith', 101, 23.6, 'test', 11, ['a', 'b', 'c'], 'a', 'b', 'c']"
      ]
     },
     "execution_count": 29,
     "metadata": {},
     "output_type": "execute_result"
    }
   ],
   "source": [
    "first_list"
   ]
  },
  {
   "cell_type": "code",
   "execution_count": 30,
   "id": "e101cdff",
   "metadata": {},
   "outputs": [
    {
     "data": {
      "text/plain": [
       "['Smith', 101, 23.6, 'test', 11, ['a', 'b', 'c'], 'a', 'b', 'c']"
      ]
     },
     "execution_count": 30,
     "metadata": {},
     "output_type": "execute_result"
    }
   ],
   "source": [
    "first_list[1:]"
   ]
  },
  {
   "cell_type": "code",
   "execution_count": 31,
   "id": "509a8ce9",
   "metadata": {},
   "outputs": [
    {
     "data": {
      "text/plain": [
       "['John', 'Smith', 101, 23.6, 'test', 11, ['a', 'b', 'c'], 'a', 'b', 'c']"
      ]
     },
     "execution_count": 31,
     "metadata": {},
     "output_type": "execute_result"
    }
   ],
   "source": [
    "first_list[:]"
   ]
  },
  {
   "cell_type": "code",
   "execution_count": 32,
   "id": "9fec2776",
   "metadata": {},
   "outputs": [
    {
     "data": {
      "text/plain": [
       "10"
      ]
     },
     "execution_count": 32,
     "metadata": {},
     "output_type": "execute_result"
    }
   ],
   "source": [
    "len(first_list)"
   ]
  },
  {
   "cell_type": "code",
   "execution_count": 35,
   "id": "9e82d238",
   "metadata": {},
   "outputs": [
    {
     "data": {
      "text/plain": [
       "['c', 'b', 'a', ['a', 'b', 'c'], 11, 'test', 23.6, 101, 'Smith', 'John']"
      ]
     },
     "execution_count": 35,
     "metadata": {},
     "output_type": "execute_result"
    }
   ],
   "source": [
    "first_list[-1:-11:-1]\n",
    "# Reversing a list"
   ]
  },
  {
   "cell_type": "code",
   "execution_count": 38,
   "id": "ae5a889f",
   "metadata": {},
   "outputs": [
    {
     "data": {
      "text/plain": [
       "[101, 23.6, 'test', 11, ['a', 'b', 'c'], 'a']"
      ]
     },
     "execution_count": 38,
     "metadata": {},
     "output_type": "execute_result"
    }
   ],
   "source": [
    "first_list[2:-2]"
   ]
  },
  {
   "cell_type": "code",
   "execution_count": 45,
   "id": "a4ed9338",
   "metadata": {},
   "outputs": [],
   "source": [
    "list_1=[1,2,4]"
   ]
  },
  {
   "cell_type": "code",
   "execution_count": 46,
   "id": "86d6ed00",
   "metadata": {},
   "outputs": [],
   "source": [
    "new_list=list_1"
   ]
  },
  {
   "cell_type": "code",
   "execution_count": 47,
   "id": "8bc4862c",
   "metadata": {},
   "outputs": [
    {
     "name": "stdout",
     "output_type": "stream",
     "text": [
      "2033517467328\n",
      "2033517467328\n"
     ]
    }
   ],
   "source": [
    "print(id(list_1))\n",
    "print(id(new_list))\n"
   ]
  },
  {
   "cell_type": "code",
   "execution_count": 48,
   "id": "c5c510d5",
   "metadata": {},
   "outputs": [],
   "source": [
    "new_list.append('a')"
   ]
  },
  {
   "cell_type": "code",
   "execution_count": 49,
   "id": "36083e5e",
   "metadata": {},
   "outputs": [
    {
     "name": "stdout",
     "output_type": "stream",
     "text": [
      "[1, 2, 4, 'a']\n",
      "[1, 2, 4, 'a']\n"
     ]
    }
   ],
   "source": [
    "print(new_list)\n",
    "print(list_1)"
   ]
  },
  {
   "cell_type": "code",
   "execution_count": 79,
   "id": "c2126c03",
   "metadata": {},
   "outputs": [
    {
     "name": "stdout",
     "output_type": "stream",
     "text": [
      "['cat', 0, 6.7]\n"
     ]
    }
   ],
   "source": [
    "my_list = ['cat', 0, 6.7]\n",
    "new_list = my_list.copy()\n",
    "print(new_list)"
   ]
  },
  {
   "cell_type": "code",
   "execution_count": 80,
   "id": "1c216b68",
   "metadata": {},
   "outputs": [
    {
     "name": "stdout",
     "output_type": "stream",
     "text": [
      "['cat', 0, 6.7]\n",
      "['cat', 0, 6.7]\n"
     ]
    }
   ],
   "source": [
    "print(my_list)\n",
    "print(new_list)"
   ]
  },
  {
   "cell_type": "code",
   "execution_count": 81,
   "id": "a79a0dae",
   "metadata": {},
   "outputs": [
    {
     "name": "stdout",
     "output_type": "stream",
     "text": [
      "2033518165504\n",
      "2033517486912\n"
     ]
    }
   ],
   "source": [
    "print(id(my_list))\n",
    "print(id(new_list))"
   ]
  },
  {
   "cell_type": "code",
   "execution_count": 82,
   "id": "66391efc",
   "metadata": {},
   "outputs": [],
   "source": [
    "new_list[0]='Tiger'"
   ]
  },
  {
   "cell_type": "code",
   "execution_count": 83,
   "id": "fc4c67bf",
   "metadata": {},
   "outputs": [
    {
     "data": {
      "text/plain": [
       "['cat', 0, 6.7]"
      ]
     },
     "execution_count": 83,
     "metadata": {},
     "output_type": "execute_result"
    }
   ],
   "source": [
    "my_list"
   ]
  },
  {
   "cell_type": "code",
   "execution_count": 84,
   "id": "3fc961d7",
   "metadata": {},
   "outputs": [
    {
     "data": {
      "text/plain": [
       "['Tiger', 0, 6.7]"
      ]
     },
     "execution_count": 84,
     "metadata": {},
     "output_type": "execute_result"
    }
   ],
   "source": [
    "new_list"
   ]
  },
  {
   "cell_type": "code",
   "execution_count": 85,
   "id": "abf86d0e",
   "metadata": {},
   "outputs": [
    {
     "name": "stdout",
     "output_type": "stream",
     "text": [
      "['cat', 0, 6.7]\n"
     ]
    }
   ],
   "source": [
    "list_2=my_list[:]\n",
    "print(list_2)"
   ]
  },
  {
   "cell_type": "code",
   "execution_count": 86,
   "id": "f71b1662",
   "metadata": {},
   "outputs": [],
   "source": [
    "list_2.append('a')"
   ]
  },
  {
   "cell_type": "code",
   "execution_count": 87,
   "id": "12cc46f5",
   "metadata": {},
   "outputs": [
    {
     "name": "stdout",
     "output_type": "stream",
     "text": [
      "['cat', 0, 6.7, 'a']\n",
      "['cat', 0, 6.7]\n"
     ]
    }
   ],
   "source": [
    "print(list_2)\n",
    "print(my_list)\n"
   ]
  },
  {
   "cell_type": "code",
   "execution_count": 89,
   "id": "383ba11e",
   "metadata": {},
   "outputs": [
    {
     "name": "stdout",
     "output_type": "stream",
     "text": [
      "['cat', 0]\n"
     ]
    }
   ],
   "source": [
    "my_list = ['cat', 0, 6.7, 44,56,67]\n",
    "list_3=my_list[0:2]\n",
    "print(list_3)"
   ]
  },
  {
   "cell_type": "code",
   "execution_count": 91,
   "id": "aa837c60",
   "metadata": {},
   "outputs": [],
   "source": [
    "L6=['banana', 'apple', 'cherry', 'papaya']\n",
    "L6.sort()"
   ]
  },
  {
   "cell_type": "code",
   "execution_count": 92,
   "id": "b4785f64",
   "metadata": {},
   "outputs": [
    {
     "data": {
      "text/plain": [
       "['apple', 'banana', 'cherry', 'papaya']"
      ]
     },
     "execution_count": 92,
     "metadata": {},
     "output_type": "execute_result"
    }
   ],
   "source": [
    "L6"
   ]
  },
  {
   "cell_type": "code",
   "execution_count": 94,
   "id": "a0e883fb",
   "metadata": {},
   "outputs": [],
   "source": [
    "L7=['banana', 'apple', 'Cherry', 'papaya']\n",
    "L7.sort()"
   ]
  },
  {
   "cell_type": "code",
   "execution_count": 95,
   "id": "604ee4b9",
   "metadata": {},
   "outputs": [
    {
     "data": {
      "text/plain": [
       "['Cherry', 'apple', 'banana', 'papaya']"
      ]
     },
     "execution_count": 95,
     "metadata": {},
     "output_type": "execute_result"
    }
   ],
   "source": [
    "L7"
   ]
  },
  {
   "cell_type": "code",
   "execution_count": 97,
   "id": "f12f0611",
   "metadata": {},
   "outputs": [],
   "source": [
    "L6.sort(reverse=True)"
   ]
  },
  {
   "cell_type": "code",
   "execution_count": 98,
   "id": "62c146ca",
   "metadata": {},
   "outputs": [
    {
     "data": {
      "text/plain": [
       "['papaya', 'cherry', 'banana', 'apple']"
      ]
     },
     "execution_count": 98,
     "metadata": {},
     "output_type": "execute_result"
    }
   ],
   "source": [
    "L6"
   ]
  },
  {
   "cell_type": "code",
   "execution_count": 99,
   "id": "2a39fdba",
   "metadata": {},
   "outputs": [],
   "source": [
    "L5=['Banana', 'apple', 'cherry', 'papaya']\n",
    "L5.sort()\n",
    "# acc to ASCII \n",
    "# The range of ASCII values for uppercase letters A-Z is 65-90, \n",
    "# and the range for lowercase letters a-z is 97-122."
   ]
  },
  {
   "cell_type": "code",
   "execution_count": 50,
   "id": "b88899fa",
   "metadata": {},
   "outputs": [
    {
     "data": {
      "text/plain": [
       "['Banana', 'apple', 'cherry', 'papaya']"
      ]
     },
     "execution_count": 50,
     "metadata": {},
     "output_type": "execute_result"
    }
   ],
   "source": [
    "L5"
   ]
  },
  {
   "cell_type": "code",
   "execution_count": 10,
   "id": "8b83b2a7",
   "metadata": {},
   "outputs": [
    {
     "name": "stdout",
     "output_type": "stream",
     "text": [
      "['a', 'e', 'i', 'o', 'u']\n"
     ]
    }
   ],
   "source": [
    "L5 = ['i','a', 'e','u','o']\n",
    "L5.sort()\n",
    "print(L5)"
   ]
  },
  {
   "cell_type": "code",
   "execution_count": 1,
   "id": "24df5441",
   "metadata": {},
   "outputs": [
    {
     "data": {
      "text/plain": [
       "['a', 'e', 'i', 'o', 'u']"
      ]
     },
     "execution_count": 1,
     "metadata": {},
     "output_type": "execute_result"
    }
   ],
   "source": [
    "L4=['i','a', 'e','u','o']\n",
    "\n",
    "sorted(L4)\n"
   ]
  },
  {
   "cell_type": "code",
   "execution_count": 102,
   "id": "ecef0509",
   "metadata": {},
   "outputs": [
    {
     "name": "stdout",
     "output_type": "stream",
     "text": [
      "['i', 'a', 'e', 'u', 'o']\n"
     ]
    }
   ],
   "source": [
    "print(L4)"
   ]
  },
  {
   "cell_type": "code",
   "execution_count": 53,
   "id": "56950507",
   "metadata": {},
   "outputs": [
    {
     "data": {
      "text/plain": [
       "['u', 'o', 'i', 'e', 'a']"
      ]
     },
     "execution_count": 53,
     "metadata": {},
     "output_type": "execute_result"
    }
   ],
   "source": [
    "sorted(L4, reverse=True)"
   ]
  },
  {
   "cell_type": "code",
   "execution_count": 12,
   "id": "34787639",
   "metadata": {},
   "outputs": [],
   "source": [
    "prime_numbers = [2, 3, 5, 7]\n",
    "prime_numbers.reverse()"
   ]
  },
  {
   "cell_type": "code",
   "execution_count": 13,
   "id": "4c05009c",
   "metadata": {},
   "outputs": [
    {
     "data": {
      "text/plain": [
       "[7, 5, 3, 2]"
      ]
     },
     "execution_count": 13,
     "metadata": {},
     "output_type": "execute_result"
    }
   ],
   "source": [
    "prime_numbers"
   ]
  },
  {
   "cell_type": "code",
   "execution_count": 106,
   "id": "bdb5da6f",
   "metadata": {},
   "outputs": [
    {
     "data": {
      "text/plain": [
       "7"
      ]
     },
     "execution_count": 106,
     "metadata": {},
     "output_type": "execute_result"
    }
   ],
   "source": [
    "prime_numbers[0]"
   ]
  },
  {
   "cell_type": "code",
   "execution_count": 7,
   "id": "2d95e778",
   "metadata": {},
   "outputs": [
    {
     "data": {
      "text/plain": [
       "3"
      ]
     },
     "execution_count": 7,
     "metadata": {},
     "output_type": "execute_result"
    }
   ],
   "source": [
    "prime_numbers.index(2)"
   ]
  },
  {
   "cell_type": "code",
   "execution_count": 8,
   "id": "aa13c533",
   "metadata": {},
   "outputs": [
    {
     "data": {
      "text/plain": [
       "3"
      ]
     },
     "execution_count": 8,
     "metadata": {},
     "output_type": "execute_result"
    }
   ],
   "source": [
    "prime_numbers[2]"
   ]
  },
  {
   "cell_type": "code",
   "execution_count": 2,
   "id": "d6210f4e",
   "metadata": {},
   "outputs": [],
   "source": [
    "list_1= [11, 22, 33, 44]"
   ]
  },
  {
   "cell_type": "code",
   "execution_count": 3,
   "id": "79c3a6b9",
   "metadata": {},
   "outputs": [
    {
     "ename": "ValueError",
     "evalue": "55 is not in list",
     "output_type": "error",
     "traceback": [
      "\u001b[1;31m---------------------------------------------------------------------------\u001b[0m",
      "\u001b[1;31mValueError\u001b[0m                                Traceback (most recent call last)",
      "\u001b[1;32m~\\AppData\\Local\\Temp\\ipykernel_13628\\2372992006.py\u001b[0m in \u001b[0;36m<module>\u001b[1;34m\u001b[0m\n\u001b[1;32m----> 1\u001b[1;33m \u001b[0mlist_1\u001b[0m\u001b[1;33m.\u001b[0m\u001b[0mindex\u001b[0m\u001b[1;33m(\u001b[0m\u001b[1;36m55\u001b[0m\u001b[1;33m)\u001b[0m\u001b[1;33m\u001b[0m\u001b[1;33m\u001b[0m\u001b[0m\n\u001b[0m",
      "\u001b[1;31mValueError\u001b[0m: 55 is not in list"
     ]
    }
   ],
   "source": [
    "list_1.index(55)"
   ]
  },
  {
   "cell_type": "code",
   "execution_count": 11,
   "id": "d669ac13",
   "metadata": {},
   "outputs": [
    {
     "data": {
      "text/plain": [
       "3"
      ]
     },
     "execution_count": 11,
     "metadata": {},
     "output_type": "execute_result"
    }
   ],
   "source": [
    "list_1.index(44)"
   ]
  },
  {
   "cell_type": "code",
   "execution_count": 12,
   "id": "5172aa58",
   "metadata": {},
   "outputs": [
    {
     "data": {
      "text/plain": [
       "11"
      ]
     },
     "execution_count": 12,
     "metadata": {},
     "output_type": "execute_result"
    }
   ],
   "source": [
    "list_1[0]"
   ]
  },
  {
   "cell_type": "code",
   "execution_count": 29,
   "id": "ddddceca",
   "metadata": {},
   "outputs": [],
   "source": [
    "list_33=[]"
   ]
  },
  {
   "cell_type": "markdown",
   "id": "af04c147",
   "metadata": {},
   "source": [
    "+++++++++++++++++="
   ]
  },
  {
   "attachments": {
    "image.png": {
     "image/png": "[encoded data removed]"
    }
   },
   "cell_type": "markdown",
   "id": "2681f87b",
   "metadata": {},
   "source": [
    "![image.png](attachment:image.png)"
   ]
  },
  {
   "cell_type": "code",
   "execution_count": 3,
   "id": "1ba0da93",
   "metadata": {},
   "outputs": [],
   "source": [
    "odd_numbers = []"
   ]
  },
  {
   "cell_type": "code",
   "execution_count": 4,
   "id": "d99d4a94",
   "metadata": {},
   "outputs": [
    {
     "name": "stdout",
     "output_type": "stream",
     "text": [
      "[1, 3]\n"
     ]
    }
   ],
   "source": [
    "odd_numbers.append(1) \n",
    "odd_numbers.append(3) \n",
    "print(odd_numbers) "
   ]
  },
  {
   "cell_type": "code",
   "execution_count": 21,
   "id": "3ae99235",
   "metadata": {},
   "outputs": [
    {
     "name": "stdout",
     "output_type": "stream",
     "text": [
      "Enter grades to calculate mean/average grade. type e to exit\n",
      " - 2\n",
      " - 3\n",
      " - 4\n",
      " - e\n"
     ]
    }
   ],
   "source": [
    "print ( \"Enter grades to calculate mean/average grade. type e to exit\")\n",
    " \n",
    "# Create an empty list\n",
    "grades_list = []\n",
    "total  = 0\n",
    " \n",
    "while True :\n",
    "    grade = input ( \" - \")\n",
    "    if grade == \"e\" :\n",
    "        break\n",
    "    else :\n",
    "        grade = float(grade)\n",
    "        grades_list.append(grade)"
   ]
  },
  {
   "cell_type": "code",
   "execution_count": 22,
   "id": "e1e9982a",
   "metadata": {},
   "outputs": [
    {
     "name": "stdout",
     "output_type": "stream",
     "text": [
      "[2.0, 3.0, 4.0]\n"
     ]
    }
   ],
   "source": [
    "print (grades_list)"
   ]
  },
  {
   "cell_type": "code",
   "execution_count": 23,
   "id": "29fa8a74",
   "metadata": {},
   "outputs": [
    {
     "name": "stdout",
     "output_type": "stream",
     "text": [
      "sum =  9.0\n"
     ]
    }
   ],
   "source": [
    "for grade in grades_list :     \n",
    "    total = total + grade \n",
    "print( \"sum = \", total) "
   ]
  },
  {
   "cell_type": "code",
   "execution_count": 24,
   "id": "df0aef04",
   "metadata": {},
   "outputs": [
    {
     "name": "stdout",
     "output_type": "stream",
     "text": [
      "Average class grade is  3.0\n"
     ]
    }
   ],
   "source": [
    "average = total / len(grades_list) \n",
    "print ( \"Average class grade is \",average )"
   ]
  },
  {
   "cell_type": "markdown",
   "id": "2e990c03",
   "metadata": {},
   "source": [
    "Challenge: Find out how many vowels are in a given sentence\n",
    "\n",
    "Take a sentence from the user and count the total number of vowels in the sentence"
   ]
  },
  {
   "cell_type": "code",
   "execution_count": 1,
   "id": "f8e69c61",
   "metadata": {},
   "outputs": [
    {
     "name": "stdout",
     "output_type": "stream",
     "text": [
      "Enter a sentence -Today Wednesday\n",
      " The number of vowels in the sentence is -  5\n"
     ]
    }
   ],
   "source": [
    "sentence = input ( \"Enter a sentence -\")\n",
    " \n",
    "vowels = ['a','e','i','o','u']\n",
    "vowel_count = 0\n",
    " \n",
    "for i in list(sentence) :\n",
    "    if i in vowels :\n",
    "        vowel_count += 1\n",
    "print(\" The number of vowels in the sentence is - \", vowel_count)\n"
   ]
  },
  {
   "cell_type": "code",
   "execution_count": 3,
   "id": "fa134020",
   "metadata": {},
   "outputs": [
    {
     "name": "stdout",
     "output_type": "stream",
     "text": [
      "<class 'str'>\n",
      "['T', 'o', 'd', 'a', 'y', ' ', 'W', 'e', 'd', 'n', 'e', 's', 'd', 'a', 'y']\n"
     ]
    }
   ],
   "source": [
    "sentence = \"Today Wednesday\"\n",
    "print(type(sentence))\n",
    "k = list(sentence)\n",
    "print(k)"
   ]
  },
  {
   "cell_type": "code",
   "execution_count": 4,
   "id": "e9afe961",
   "metadata": {},
   "outputs": [
    {
     "name": "stdout",
     "output_type": "stream",
     "text": [
      "T\n",
      "o\n",
      "d\n",
      "a\n",
      "y\n",
      " \n",
      "W\n",
      "e\n",
      "d\n",
      "n\n",
      "e\n",
      "s\n",
      "d\n",
      "a\n",
      "y\n"
     ]
    }
   ],
   "source": [
    "for letter in k: \n",
    "    print(letter)"
   ]
  },
  {
   "cell_type": "code",
   "execution_count": 10,
   "id": "fc4b4883",
   "metadata": {},
   "outputs": [
    {
     "name": "stdout",
     "output_type": "stream",
     "text": [
      "Average class grade is  3.3333333333333335\n"
     ]
    }
   ],
   "source": [
    "average = sum / len(grades) \n",
    "print ( \"Average class grade is \",average )"
   ]
  },
  {
   "cell_type": "code",
   "execution_count": 11,
   "id": "f76f737a",
   "metadata": {},
   "outputs": [
    {
     "name": "stdout",
     "output_type": "stream",
     "text": [
      "Average class grade is  3.3333333333333335\n"
     ]
    }
   ],
   "source": [
    "import math  \n",
    " \n",
    "average = math.fsum(grades) / len(grades) \n",
    "print ( \"Average class grade is \",average)"
   ]
  },
  {
   "cell_type": "markdown",
   "id": "3af88019",
   "metadata": {},
   "source": [
    "fsum stands for floating point sum. If you wanted sum of just numbers ( and not floats ), you could use math.sum( ). Before we write the next version of program, let’s learn a couple more aspects obout lists.  "
   ]
  },
  {
   "attachments": {
    "image.png": {
     "image/png": "[encoded data removed]"
    }
   },
   "cell_type": "markdown",
   "id": "643b4437",
   "metadata": {},
   "source": [
    "![image.png](attachment:image.png)"
   ]
  },
  {
   "attachments": {
    "image.png": {
     "image/png": "[encoded data removed]"
    }
   },
   "cell_type": "markdown",
   "id": "b498df83",
   "metadata": {},
   "source": [
    "![image.png](attachment:image.png)"
   ]
  },
  {
   "cell_type": "code",
   "execution_count": 12,
   "id": "81900500",
   "metadata": {},
   "outputs": [
    {
     "name": "stdout",
     "output_type": "stream",
     "text": [
      "[1, 3, 5, 7, 9]\n"
     ]
    }
   ],
   "source": [
    "odd_numbers = [1,3,7,9] \n",
    "odd_numbers.insert(2,5) \n",
    "print( odd_numbers ) "
   ]
  },
  {
   "cell_type": "code",
   "execution_count": 14,
   "id": "4b45c107",
   "metadata": {},
   "outputs": [
    {
     "name": "stdout",
     "output_type": "stream",
     "text": [
      "[1, 3, 5, 7, 9]\n"
     ]
    }
   ],
   "source": [
    "#  Change List elements\n",
    "odd_numbers = [1,3,5,8,9] \n",
    "odd_numbers[3] = 7\n",
    "print ( odd_numbers)"
   ]
  },
  {
   "cell_type": "code",
   "execution_count": 25,
   "id": "e2d00686",
   "metadata": {},
   "outputs": [
    {
     "name": "stdout",
     "output_type": "stream",
     "text": [
      "[1, 3, 5, 7, 9]\n"
     ]
    }
   ],
   "source": [
    "odd_numbers = [1,3,5,7,9] \n",
    "print ( odd_numbers) "
   ]
  },
  {
   "cell_type": "code",
   "execution_count": 26,
   "id": "e0d58b50",
   "metadata": {},
   "outputs": [
    {
     "name": "stdout",
     "output_type": "stream",
     "text": [
      "[1, 3, 7, 9]\n"
     ]
    }
   ],
   "source": [
    "odd_numbers.pop(2) \n",
    "print ( odd_numbers ) "
   ]
  },
  {
   "cell_type": "markdown",
   "id": "de50f056",
   "metadata": {},
   "source": [
    "pop( ) without specifying an argument, removes the last element if you don’t specify an index"
   ]
  },
  {
   "attachments": {
    "image.png": {
     "image/png": "[encoded data removed]"
    }
   },
   "cell_type": "markdown",
   "id": "979f2615",
   "metadata": {},
   "source": [
    "![image.png](attachment:image.png)"
   ]
  },
  {
   "cell_type": "code",
   "execution_count": 27,
   "id": "f62bf134",
   "metadata": {},
   "outputs": [
    {
     "data": {
      "text/plain": [
       "[1, 3, 7, 9]"
      ]
     },
     "execution_count": 27,
     "metadata": {},
     "output_type": "execute_result"
    }
   ],
   "source": [
    "odd_numbers"
   ]
  },
  {
   "cell_type": "code",
   "execution_count": 28,
   "id": "d91a12d3",
   "metadata": {},
   "outputs": [
    {
     "name": "stdout",
     "output_type": "stream",
     "text": [
      "[1, 3, 7]\n"
     ]
    }
   ],
   "source": [
    "odd_numbers.pop()  \n",
    "print ( odd_numbers ) "
   ]
  },
  {
   "cell_type": "markdown",
   "id": "b9547756",
   "metadata": {},
   "source": [
    "### Remove List element\n",
    "remove( ) does not remove elements by index. Instead it does by the actual content.. It removes the first occurence of a value"
   ]
  },
  {
   "attachments": {
    "image.png": {
     "image/png": "[encoded data removed]"
    }
   },
   "cell_type": "markdown",
   "id": "7b2befb2",
   "metadata": {},
   "source": [
    "![image.png](attachment:image.png)"
   ]
  },
  {
   "cell_type": "code",
   "execution_count": 1,
   "id": "6bdbd617",
   "metadata": {},
   "outputs": [
    {
     "name": "stdout",
     "output_type": "stream",
     "text": [
      "[1, 3, 5, 7, 9]\n"
     ]
    }
   ],
   "source": [
    "odd_numbers = [1,3,5,7,9] \n",
    "print ( odd_numbers) "
   ]
  },
  {
   "cell_type": "code",
   "execution_count": 2,
   "id": "008fc7c1",
   "metadata": {},
   "outputs": [],
   "source": [
    "odd_numbers.remove(9) # removes the first occurence of a value "
   ]
  },
  {
   "cell_type": "code",
   "execution_count": 3,
   "id": "864aa3f0",
   "metadata": {},
   "outputs": [
    {
     "name": "stdout",
     "output_type": "stream",
     "text": [
      "[1, 3, 5, 7]\n"
     ]
    }
   ],
   "source": [
    "print(odd_numbers) "
   ]
  },
  {
   "cell_type": "code",
   "execution_count": 5,
   "id": "018e78fa",
   "metadata": {},
   "outputs": [
    {
     "name": "stdout",
     "output_type": "stream",
     "text": [
      "[1, 3, 5, 7, 9, 5]\n"
     ]
    }
   ],
   "source": [
    "numbers_list = [1,3,5,7,9, 5] \n",
    "print(numbers_list) "
   ]
  },
  {
   "cell_type": "code",
   "execution_count": 6,
   "id": "4026b73a",
   "metadata": {},
   "outputs": [
    {
     "name": "stdout",
     "output_type": "stream",
     "text": [
      "[1, 3, 7, 9, 5]\n"
     ]
    }
   ],
   "source": [
    "numbers_list.remove(5)\n",
    "print(numbers_list) "
   ]
  },
  {
   "cell_type": "markdown",
   "id": "95ba189d",
   "metadata": {},
   "source": [
    "Sometimes, you want to remove all the elements. In cases like this, use list comprehension to recreate the array."
   ]
  },
  {
   "cell_type": "code",
   "execution_count": 20,
   "id": "c471fc22",
   "metadata": {},
   "outputs": [
    {
     "name": "stdout",
     "output_type": "stream",
     "text": [
      "[1, 2, 4, 5, 7, 8]\n"
     ]
    }
   ],
   "source": [
    "numbers = [1,2,3,4,5,3,7,8,3]\n",
    "numbers = [number for number in numbers if number !=3]\n",
    "print(numbers)"
   ]
  },
  {
   "cell_type": "code",
   "execution_count": 21,
   "id": "70ea0a17",
   "metadata": {},
   "outputs": [
    {
     "name": "stdout",
     "output_type": "stream",
     "text": [
      "[1, 3, 5, 7, 9]\n"
     ]
    }
   ],
   "source": [
    "# Clear List element\n",
    "odd_numbers = [1,3,5,7,9] \n",
    "print ( odd_numbers ) "
   ]
  },
  {
   "attachments": {
    "image.png": {
     "image/png": "[encoded data removed]"
    }
   },
   "cell_type": "markdown",
   "id": "96b3633a",
   "metadata": {},
   "source": [
    "![image.png](attachment:image.png)"
   ]
  },
  {
   "attachments": {
    "image.png": {
     "image/png": "[encoded data removed]"
    }
   },
   "cell_type": "markdown",
   "id": "7cad71e5",
   "metadata": {},
   "source": [
    "![image.png](attachment:image.png)"
   ]
  },
  {
   "attachments": {
    "image.png": {
     "image/png": "[encoded data removed]"
    }
   },
   "cell_type": "markdown",
   "id": "83933eb6",
   "metadata": {},
   "source": [
    "![image.png](attachment:image.png)"
   ]
  },
  {
   "cell_type": "code",
   "execution_count": 22,
   "id": "dc6d28a6",
   "metadata": {},
   "outputs": [
    {
     "name": "stdout",
     "output_type": "stream",
     "text": [
      " enter your choices - \n",
      "Enter your choice - \n",
      "- 'enter' grades\n",
      "- 'delete' grades\n",
      "- 'update' grades\n",
      "- 'clear' grades\n",
      "- calculate 'average'\n",
      "- 'exit'\n",
      "- enter\n",
      "Enter grades. type e to exit\n",
      " --> 3\n",
      " --> 5\n",
      " --> 3\n",
      " --> 3\n",
      " --> 4\n",
      " --> e\n",
      "You have entered - \n",
      "[3.0, 5.0, 3.0, 3.0, 4.0]\n",
      "Enter your choice - \n",
      "- 'enter' grades\n",
      "- 'delete' grades\n",
      "- 'update' grades\n",
      "- 'clear' grades\n",
      "- calculate 'average'\n",
      "- 'exit'\n",
      "- average\n",
      "Average -->  3.6\n",
      "=================\n",
      "Enter your choice - \n",
      "- 'enter' grades\n",
      "- 'delete' grades\n",
      "- 'update' grades\n",
      "- 'clear' grades\n",
      "- calculate 'average'\n",
      "- 'exit'\n",
      "- delete\n",
      "Enter index to delete. type e to exit\n",
      "index - grade\n",
      "0 \t 3.0\n",
      "1 \t 5.0\n",
      "2 \t 3.0\n",
      "3 \t 3.0\n",
      "4 \t 4.0\n",
      "-->4\n",
      "index - grade\n",
      "0 \t 3.0\n",
      "1 \t 5.0\n",
      "2 \t 3.0\n",
      "3 \t 3.0\n",
      "-->e\n",
      "Enter your choice - \n",
      "- 'enter' grades\n",
      "- 'delete' grades\n",
      "- 'update' grades\n",
      "- 'clear' grades\n",
      "- calculate 'average'\n",
      "- 'exit'\n",
      "- u\n",
      "Enter valid choice - Try again\n",
      "Enter your choice - \n",
      "- 'enter' grades\n",
      "- 'delete' grades\n",
      "- 'update' grades\n",
      "- 'clear' grades\n",
      "- calculate 'average'\n",
      "- 'exit'\n",
      "- average\n",
      "Average -->  3.5\n",
      "=================\n",
      "Enter your choice - \n",
      "- 'enter' grades\n",
      "- 'delete' grades\n",
      "- 'update' grades\n",
      "- 'clear' grades\n",
      "- calculate 'average'\n",
      "- 'exit'\n",
      "- exit\n"
     ]
    }
   ],
   "source": [
    "import math\n",
    " \n",
    "# create an empty grades list\n",
    "grades = []\n",
    " \n",
    "print ( \" enter your choices - \")\n",
    "while ( True ) :\n",
    "    print ( \"Enter your choice - \")\n",
    "    print ( \"- 'enter' grades\")\n",
    "    print ( \"- 'delete' grades\")\n",
    "    print ( \"- 'update' grades\")\n",
    "    print ( \"- 'clear' grades\")\n",
    "    print ( \"- calculate 'average'\")\n",
    "    print (\"- 'exit'\")\n",
    "     \n",
    "    choice = input(\"- \")\n",
    "    if choice == \"exit\" :\n",
    "        break\n",
    "     \n",
    "    if choice == \"enter\" :\n",
    "        print ( \"Enter grades. type e to exit\")\n",
    "        while True :\n",
    "            grade = input ( \" --> \")\n",
    "            if grade == \"e\" :\n",
    "                break\n",
    "            else :\n",
    "                grade   = float(grade)\n",
    "                grades.append(grade)\n",
    "        print ( \"You have entered - \")\n",
    "        print ( grades )\n",
    " \n",
    "    elif choice == \"delete\" :\n",
    "        if len(grades) == 0 : \n",
    "            # there are no grades yet. \n",
    "            print ( \" No grades input yet. Please try to input grades\")\n",
    "        else :\n",
    "            print ( \"Enter index to delete. type e to exit\")\n",
    "            while True or len(grades) != 0 :\n",
    "                index = 0\n",
    "                print ( \"index - grade\")\n",
    "                for grade in grades :\n",
    "                    print ( index,\"\\t\",grade)\n",
    "                    index = index + 1\n",
    "                 \n",
    "                grade = input ( \"-->\")\n",
    "                if grade == \"e\" :\n",
    "                    break\n",
    "                else :\n",
    "                    if int(grade) < len(grades) :\n",
    "                        grades.pop(int(grade))\n",
    "     \n",
    "    elif choice == \"update\":\n",
    "        if len(grades) == 0 : \n",
    "            # there are no grades yet. \n",
    "            print ( \" No grades input yet. Please try to input grades\")\n",
    "        else :\n",
    "            print ( \"Enter index to update. type e to exit\")   \n",
    "            while True or len(grades) != 0 :\n",
    "                index = 0\n",
    "                print ( \"index - grade\")\n",
    "                for grade in grades :\n",
    "                    print ( index,\"\\t\",grade)\n",
    "                    index = index + 1            \n",
    " \n",
    "                grade = input ( \"-->\")\n",
    "                if grade == \"e\" :\n",
    "                    break\n",
    "                else :\n",
    "                    if int(grade) < len(grades) :\n",
    "                        print ( \"Changing grade\")\n",
    "                        print ( \"--------------\")\n",
    "                        print ( \"index - grade\")\n",
    "                        print ( int(grade), \"\\t\",grades[int(grade)])\n",
    "                        print ( \"enter new grade\")\n",
    "                        new_grade = input( \"-->\")\n",
    "                        grades[int(grade)] = float(new_grade)          \n",
    " \n",
    "    elif choice == \"clear\" :\n",
    "        if len(grades) == 0 : \n",
    "            # there are no grades yet. \n",
    "            print ( \" No grades input yet. Please try to input grades\")   \n",
    "        else :\n",
    "            grades.clear()\n",
    "            print ( \"cleared all grades\") \n",
    "            print ( \"=================\")        \n",
    " \n",
    "    elif choice == \"average\" :\n",
    "        average = math.fsum(grades) / len(grades)\n",
    "        print (\"Average --> \",average)    \n",
    "        print (\"=================\")       \n",
    "     \n",
    "    else :\n",
    "        print ( \"Enter valid choice - Try again\")\n",
    "         "
   ]
  }
 ],
 "metadata": {
  "kernelspec": {
   "display_name": "Python 3 (ipykernel)",
   "language": "python",
   "name": "python3"
  },
  "language_info": {
   "codemirror_mode": {
    "name": "ipython",
    "version": 3
   },
   "file_extension": ".py",
   "mimetype": "text/x-python",
   "name": "python",
   "nbconvert_exporter": "python",
   "pygments_lexer": "ipython3",
   "version": "3.9.13"
  }
 },
 "nbformat": 4,
 "nbformat_minor": 5
}
