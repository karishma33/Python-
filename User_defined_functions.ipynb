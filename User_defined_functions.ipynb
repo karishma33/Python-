{
 "cells": [
  {
   "cell_type": "code",
   "execution_count": 1,
   "id": "876a1b04",
   "metadata": {},
   "outputs": [],
   "source": [
    "def is_positive(number): \n",
    "    if number > 0: \n",
    "        return True\n",
    "    else: \n",
    "        return False\n",
    "    "
   ]
  },
  {
   "cell_type": "code",
   "execution_count": 3,
   "id": "591728bf",
   "metadata": {},
   "outputs": [
    {
     "data": {
      "text/plain": [
       "False"
      ]
     },
     "execution_count": 3,
     "metadata": {},
     "output_type": "execute_result"
    }
   ],
   "source": [
    "is_positive(-7)"
   ]
  },
  {
   "cell_type": "code",
   "execution_count": 7,
   "id": "e16bafed",
   "metadata": {},
   "outputs": [],
   "source": [
    "def is_positive(number): \n",
    "    if number > 0: \n",
    "        print(f\" {number} is positive\")\n",
    "    else:\n",
    "        print(f\"{number} is negative\")"
   ]
  },
  {
   "cell_type": "code",
   "execution_count": 8,
   "id": "cb192ee6",
   "metadata": {},
   "outputs": [
    {
     "name": "stdout",
     "output_type": "stream",
     "text": [
      "-7 is negative\n"
     ]
    }
   ],
   "source": [
    "is_positive(-7)"
   ]
  },
  {
   "cell_type": "code",
   "execution_count": 9,
   "id": "98c57773",
   "metadata": {},
   "outputs": [],
   "source": [
    "def is_even(number): \n",
    "    if number%2 == 0: \n",
    "        print(f\" {number} is even\")\n",
    "    else:\n",
    "        print(f\"{number} is odd\")"
   ]
  },
  {
   "cell_type": "code",
   "execution_count": 11,
   "id": "a9b78e1f",
   "metadata": {},
   "outputs": [
    {
     "name": "stdout",
     "output_type": "stream",
     "text": [
      "41 is odd\n"
     ]
    }
   ],
   "source": [
    "is_even(41)"
   ]
  },
  {
   "cell_type": "code",
   "execution_count": 13,
   "id": "9a790918",
   "metadata": {},
   "outputs": [
    {
     "data": {
      "text/plain": [
       "3"
      ]
     },
     "execution_count": 13,
     "metadata": {},
     "output_type": "execute_result"
    }
   ],
   "source": [
    "23%10"
   ]
  },
  {
   "cell_type": "code",
   "execution_count": 14,
   "id": "023c6673",
   "metadata": {},
   "outputs": [],
   "source": [
    "def get_units_place(number):\n",
    "    digit = number%10\n",
    "    return digit"
   ]
  },
  {
   "cell_type": "code",
   "execution_count": 16,
   "id": "f0fce025",
   "metadata": {},
   "outputs": [
    {
     "data": {
      "text/plain": [
       "9"
      ]
     },
     "execution_count": 16,
     "metadata": {},
     "output_type": "execute_result"
    }
   ],
   "source": [
    "get_units_place(789)"
   ]
  },
  {
   "cell_type": "code",
   "execution_count": null,
   "id": "bfac146f",
   "metadata": {},
   "outputs": [],
   "source": [
    "Unit's place in 789 is 9"
   ]
  },
  {
   "cell_type": "code",
   "execution_count": null,
   "id": "95e98c36",
   "metadata": {},
   "outputs": [],
   "source": [
    "# BODMAS\n",
    "percent = (cgpa-0.5) * 10"
   ]
  },
  {
   "cell_type": "code",
   "execution_count": 22,
   "id": "f2409051",
   "metadata": {},
   "outputs": [],
   "source": [
    "def get_units(number):\n",
    "    digit = number%10\n",
    "    print(f\"Unit's place of {number} is {digit}\")"
   ]
  },
  {
   "cell_type": "code",
   "execution_count": 24,
   "id": "928f25f1",
   "metadata": {},
   "outputs": [
    {
     "name": "stdout",
     "output_type": "stream",
     "text": [
      "Unit's place of 876 is 6\n"
     ]
    }
   ],
   "source": [
    "get_units(876)"
   ]
  },
  {
   "cell_type": "code",
   "execution_count": 25,
   "id": "5e512d32",
   "metadata": {},
   "outputs": [
    {
     "name": "stdout",
     "output_type": "stream",
     "text": [
      "Enter your name: Karishma\n"
     ]
    }
   ],
   "source": []
  },
  {
   "cell_type": "code",
   "execution_count": 26,
   "id": "790430f4",
   "metadata": {},
   "outputs": [],
   "source": [
    "def greet(name): \n",
    "    print(f\"Hello, {name}\")"
   ]
  },
  {
   "cell_type": "code",
   "execution_count": 27,
   "id": "58e43c89",
   "metadata": {},
   "outputs": [
    {
     "name": "stdout",
     "output_type": "stream",
     "text": [
      "Hello, Karishma\n"
     ]
    }
   ],
   "source": [
    "greet(name)"
   ]
  },
  {
   "cell_type": "code",
   "execution_count": 28,
   "id": "a3de5898",
   "metadata": {},
   "outputs": [
    {
     "name": "stdout",
     "output_type": "stream",
     "text": [
      "Enter your name: Pune\n"
     ]
    }
   ],
   "source": [
    "name = input(\"Enter your name: \")"
   ]
  },
  {
   "cell_type": "code",
   "execution_count": 29,
   "id": "ef9b8b52",
   "metadata": {},
   "outputs": [
    {
     "name": "stdout",
     "output_type": "stream",
     "text": [
      "Hello, Pune\n"
     ]
    }
   ],
   "source": [
    "greet(name)"
   ]
  },
  {
   "cell_type": "code",
   "execution_count": 33,
   "id": "466b5cd7",
   "metadata": {},
   "outputs": [
    {
     "name": "stdout",
     "output_type": "stream",
     "text": [
      "Hello, Raj\n"
     ]
    }
   ],
   "source": [
    "greet(\"Raj\")"
   ]
  },
  {
   "cell_type": "code",
   "execution_count": 50,
   "id": "45360a11",
   "metadata": {},
   "outputs": [],
   "source": [
    "def addition(a,b):\n",
    "    return a+b"
   ]
  },
  {
   "cell_type": "code",
   "execution_count": 51,
   "id": "d1a100da",
   "metadata": {},
   "outputs": [
    {
     "name": "stdout",
     "output_type": "stream",
     "text": [
      "7\n"
     ]
    }
   ],
   "source": [
    "d = addition(3,4)\n",
    "print(d)"
   ]
  },
  {
   "cell_type": "code",
   "execution_count": null,
   "id": "dd1b6ec7",
   "metadata": {},
   "outputs": [],
   "source": [
    "addition(30,40)"
   ]
  },
  {
   "cell_type": "code",
   "execution_count": 37,
   "id": "d3fb3572",
   "metadata": {},
   "outputs": [
    {
     "name": "stdout",
     "output_type": "stream",
     "text": [
      "Enter a: 4\n",
      "Enter b: 5\n"
     ]
    }
   ],
   "source": [
    "a= int(input(\"Enter a: \"))\n",
    "b= int(input(\"Enter b: \"))\n"
   ]
  },
  {
   "cell_type": "code",
   "execution_count": 38,
   "id": "8fd373a9",
   "metadata": {},
   "outputs": [
    {
     "data": {
      "text/plain": [
       "9"
      ]
     },
     "execution_count": 38,
     "metadata": {},
     "output_type": "execute_result"
    }
   ],
   "source": [
    "addition(a,b)"
   ]
  },
  {
   "cell_type": "code",
   "execution_count": 39,
   "id": "71ea6260",
   "metadata": {},
   "outputs": [],
   "source": [
    "def add_div(a, b): \n",
    "    add = a +b \n",
    "    div = a/b\n",
    "    return add, div"
   ]
  },
  {
   "cell_type": "code",
   "execution_count": 42,
   "id": "63be86df",
   "metadata": {},
   "outputs": [],
   "source": [
    "a = add_div(10,2)"
   ]
  },
  {
   "cell_type": "code",
   "execution_count": 48,
   "id": "178fa958",
   "metadata": {},
   "outputs": [
    {
     "name": "stdout",
     "output_type": "stream",
     "text": [
      "(12, 5.0)\n",
      "<class 'tuple'>\n"
     ]
    }
   ],
   "source": [
    "print(a)\n",
    "print(type(a))"
   ]
  },
  {
   "cell_type": "code",
   "execution_count": 44,
   "id": "760d06ca",
   "metadata": {},
   "outputs": [],
   "source": [
    "addition, division = add_div(10,2)"
   ]
  },
  {
   "cell_type": "code",
   "execution_count": 47,
   "id": "1e5b30de",
   "metadata": {},
   "outputs": [
    {
     "name": "stdout",
     "output_type": "stream",
     "text": [
      "12\n",
      "5.0\n"
     ]
    }
   ],
   "source": [
    "print(addition)\n",
    "print(division)"
   ]
  },
  {
   "cell_type": "code",
   "execution_count": 54,
   "id": "8cb7c6da",
   "metadata": {},
   "outputs": [],
   "source": [
    "_, division = add_div(10,2)"
   ]
  },
  {
   "cell_type": "code",
   "execution_count": 55,
   "id": "0679af0a",
   "metadata": {},
   "outputs": [
    {
     "data": {
      "text/plain": [
       "5.0"
      ]
     },
     "execution_count": 55,
     "metadata": {},
     "output_type": "execute_result"
    }
   ],
   "source": [
    "division"
   ]
  },
  {
   "cell_type": "code",
   "execution_count": 56,
   "id": "3bd53584",
   "metadata": {},
   "outputs": [],
   "source": [
    "addition, _ = add_div(10,2)"
   ]
  },
  {
   "cell_type": "code",
   "execution_count": 57,
   "id": "54eef3a2",
   "metadata": {},
   "outputs": [
    {
     "data": {
      "text/plain": [
       "12"
      ]
     },
     "execution_count": 57,
     "metadata": {},
     "output_type": "execute_result"
    }
   ],
   "source": [
    "addition"
   ]
  },
  {
   "cell_type": "code",
   "execution_count": 61,
   "id": "6968ee98",
   "metadata": {},
   "outputs": [
    {
     "data": {
      "text/plain": [
       "45"
      ]
     },
     "execution_count": 61,
     "metadata": {},
     "output_type": "execute_result"
    }
   ],
   "source": []
  },
  {
   "cell_type": "code",
   "execution_count": null,
   "id": "b30fca69",
   "metadata": {},
   "outputs": [],
   "source": []
  }
 ],
 "metadata": {
  "kernelspec": {
   "display_name": "Python 3 (ipykernel)",
   "language": "python",
   "name": "python3"
  },
  "language_info": {
   "codemirror_mode": {
    "name": "ipython",
    "version": 3
   },
   "file_extension": ".py",
   "mimetype": "text/x-python",
   "name": "python",
   "nbconvert_exporter": "python",
   "pygments_lexer": "ipython3",
   "version": "3.9.13"
  }
 },
 "nbformat": 4,
 "nbformat_minor": 5
}
