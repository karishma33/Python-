{
 "cells": [
  {
   "cell_type": "raw",
   "id": "3a6d89ec",
   "metadata": {},
   "source": [
    "Dunder methods in Python refer to the special methods that are enclosed in double underscores (also called \"magic methods\"). These methods have special meanings and are used to define how objects of a class behave in certain contexts. Here is an overview of the most common dunder methods and their usage.\n"
   ]
  },
  {
   "cell_type": "markdown",
   "id": "08143f09",
   "metadata": {},
   "source": [
    "`__init__(self, ...)`: This method is called when an object is created from a class and is used to initialize the object's attributes."
   ]
  },
  {
   "cell_type": "code",
   "execution_count": 1,
   "id": "cb67cfaf",
   "metadata": {},
   "outputs": [
    {
     "name": "stdout",
     "output_type": "stream",
     "text": [
      "Alice\n",
      "25\n"
     ]
    }
   ],
   "source": [
    "class Person:\n",
    "    def __init__(self, name, age):\n",
    "        self.name = name\n",
    "        self.age = age\n",
    "\n",
    "person = Person(\"Alice\", 25)\n",
    "print(person.name)  # Output: Alice\n",
    "print(person.age)   # Output: 25\n"
   ]
  },
  {
   "cell_type": "markdown",
   "id": "0ba2752f",
   "metadata": {},
   "source": [
    "`__str__(self)`: This method is called when an object is passed to the `str()` function and is used to return a string representation of the object."
   ]
  },
  {
   "cell_type": "code",
   "execution_count": 2,
   "id": "73a013b7",
   "metadata": {},
   "outputs": [
    {
     "name": "stdout",
     "output_type": "stream",
     "text": [
      "Alice is 25 years old\n"
     ]
    }
   ],
   "source": [
    "class Person:\n",
    "    def __init__(self, name, age):\n",
    "        self.name = name\n",
    "        self.age = age\n",
    "        \n",
    "    def __str__(self):\n",
    "        return f\"{self.name} is {self.age} years old\"\n",
    "\n",
    "person = Person(\"Alice\", 25)\n",
    "print(str(person))  # Output: Alice is 25 years old\n"
   ]
  },
  {
   "cell_type": "markdown",
   "id": "7af41bcf",
   "metadata": {},
   "source": [
    "`__repr__(self)`: This method is called when an object is passed to the `repr()` function and is used to return a string representation of the object that can be used to recreate the object."
   ]
  },
  {
   "cell_type": "code",
   "execution_count": 3,
   "id": "3dc57498",
   "metadata": {},
   "outputs": [
    {
     "name": "stdout",
     "output_type": "stream",
     "text": [
      "Person('Alice', 25)\n"
     ]
    }
   ],
   "source": [
    "class Person:\n",
    "    def __init__(self, name, age):\n",
    "        self.name = name\n",
    "        self.age = age\n",
    "        \n",
    "    def __repr__(self):\n",
    "        return f\"Person('{self.name}', {self.age})\"\n",
    "\n",
    "person = Person(\"Alice\", 25)\n",
    "print(repr(person))  # Output: Person('Alice', 25)\n"
   ]
  },
  {
   "cell_type": "markdown",
   "id": "f536fbed",
   "metadata": {},
   "source": [
    "#### Difference between ___str__ and __repr__"
   ]
  },
  {
   "cell_type": "raw",
   "id": "871b0b6c",
   "metadata": {},
   "source": [
    "The object class is the base class for all classes, has a number of dunder (short for double underscore) methods. They are often called magic methods. These methods are never called directly. Instead, a corresponding built-in function internally calls one of these magic methods. For instance built-in str() function invokes __str__() method and repr() function invokes __repr__() method.\n",
    "\n"
   ]
  },
  {
   "cell_type": "raw",
   "id": "7a38d284",
   "metadata": {},
   "source": [
    "__str__ and __repr__ are both special methods in Python that are used to define how an object should be represented as a string. However, they have some differences in their intended usage and behavior.\n",
    "\n",
    "Intended Usage: __str__ is used to define the \"informal\" or \"user-friendly\" string representation of an object, whereas __repr__ is used to define the \"formal\" or \"developer-friendly\" string representation of an object.\n",
    "\n",
    "Output: __str__ should return a human-readable string that is suitable for end-users to understand, while __repr__ should return a string that, when passed to the eval() function, should recreate the object, allowing developers to reproduce the object's state exactly.\n",
    "\n",
    "Fallback Behavior: If an object does not have a __str__ method defined, Python falls back to calling the __repr__ method as a fallback, but the reverse is not true. If an object does not have a __repr__ method defined, Python falls back to a default implementation that returns a string containing the object's class name and memory address."
   ]
  },
  {
   "cell_type": "code",
   "execution_count": 3,
   "id": "dcb874db",
   "metadata": {},
   "outputs": [
    {
     "name": "stdout",
     "output_type": "stream",
     "text": [
      "Alice, 30 years old\n",
      "Person('Alice', 30 yrs)\n"
     ]
    }
   ],
   "source": [
    "class Person:\n",
    "    def __init__(self, name, age):\n",
    "        self.name = name\n",
    "        self.age = age\n",
    "\n",
    "    def __str__(self):\n",
    "        return f\"{self.name}, {self.age} years old\"  # Informal string representation\n",
    "\n",
    "    def __repr__(self):\n",
    "        return f\"Person('{self.name}', {self.age} yrs)\"  # Formal string representation\n",
    "\n",
    "person = Person(\"Alice\", 30)\n",
    "\n",
    "print(person)       # Output: Alice, 30 years old\n",
    "print(repr(person))  # Output: Person('Alice', 30)\n"
   ]
  },
  {
   "cell_type": "code",
   "execution_count": 4,
   "id": "c2ef0c0d",
   "metadata": {},
   "outputs": [
    {
     "name": "stdout",
     "output_type": "stream",
     "text": [
      "Alice, 30 years old\n"
     ]
    }
   ],
   "source": [
    "person = Person(\"Alice\", 30)\n",
    "print(person.__str__())  # Output: Alice, 30 years old\n"
   ]
  },
  {
   "cell_type": "code",
   "execution_count": 5,
   "id": "0c7670e3",
   "metadata": {},
   "outputs": [
    {
     "name": "stdout",
     "output_type": "stream",
     "text": [
      "Person('Alice', 30 yrs)\n"
     ]
    }
   ],
   "source": [
    "person = Person(\"Alice\", 30)\n",
    "print(person.__repr__())  # Output: Alice, 30 years old\n"
   ]
  },
  {
   "cell_type": "raw",
   "id": "60917d35",
   "metadata": {},
   "source": [
    "__str__ should return a human-readable string that is suitable for end-users to understand, while __repr__ should return a string that, when passed to the eval() function, should recreate the object, allowing developers to reproduce the object's state exactly"
   ]
  },
  {
   "cell_type": "code",
   "execution_count": 13,
   "id": "a57c5eea",
   "metadata": {},
   "outputs": [
    {
     "name": "stdout",
     "output_type": "stream",
     "text": [
      "Rectangle with length=5 and width=10\n",
      "Rectangle(5, 10)\n",
      "5\n",
      "10\n"
     ]
    }
   ],
   "source": [
    "class Rectangle:\n",
    "    def __init__(self, length, width):\n",
    "        self.length = length\n",
    "        self.width = width\n",
    "\n",
    "    def __str__(self):\n",
    "        return f\"Rectangle with length={self.length} and width={self.width}\"\n",
    "\n",
    "    def __repr__(self):\n",
    "        return f\"Rectangle({self.length}, {self.width})\"\n",
    "\n",
    "# Create a Rectangle object\n",
    "rectangle = Rectangle(5, 10)\n",
    "\n",
    "# Use __str__ to get the user-friendly string representation\n",
    "print(rectangle)  # Output: Rectangle with length=5 and width=10\n",
    "\n",
    "# Use __repr__ to get the formal string representation\n",
    "repr_str = repr(rectangle)\n",
    "print(repr_str)    # Output: Rectangle(5, 10)\n",
    "\n",
    "# Use eval() to recreate the object from its formal string representation\n",
    "recreated_rectangle = eval(repr_str)\n",
    "\n",
    "# Check if the recreated object has the same state as the original object\n",
    "print(recreated_rectangle.length)  # Output: 5\n",
    "print(recreated_rectangle.width)   # Output: 10\n"
   ]
  },
  {
   "cell_type": "markdown",
   "id": "a99cddeb",
   "metadata": {},
   "source": [
    "The rectangle object is created with a length of 5 and width of 10. The print(rectangle) statement uses the __str__ method to get the user-friendly string representation of the object. The repr_str variable stores the formal string representation of the object obtained from __repr__. Then, eval() is used to recreate the Rectangle object from the repr_str string, and the recreated object is checked for the same state as the original object.\n",
    "\n",
    "Note: Use eval() with caution, as it can execute arbitrary code and pose security risks if used with untrusted input. It is generally recommended to validate and sanitize any input passed to eval() to ensure it is safe to execute.\n",
    "\n",
    "\n",
    "\n",
    "\n"
   ]
  },
  {
   "cell_type": "code",
   "execution_count": 14,
   "id": "50a65421",
   "metadata": {},
   "outputs": [
    {
     "name": "stdout",
     "output_type": "stream",
     "text": [
      "15.0\n"
     ]
    }
   ],
   "source": [
    "# Input expression as a string\n",
    "expr = \"3 * 5 + 2 - 8 / 4\"\n",
    "\n",
    "# Evaluate the expression using eval()\n",
    "result = eval(expr)\n",
    "\n",
    "# Print the result\n",
    "print(result)  # Output: 14.0\n"
   ]
  },
  {
   "cell_type": "code",
   "execution_count": 15,
   "id": "dc6347ba",
   "metadata": {},
   "outputs": [],
   "source": [
    "# # Fallback behaviour \n",
    "# Fallback Behavior: If an object does not \n",
    "#     have a __str__ method defined, \n",
    "#     Python falls back to calling \n",
    "#     the __repr__ method as a fallback, \n",
    "#     but the reverse is not true. \n",
    "#     If an object does not have a __repr__ \n",
    "#     method defined, Python falls back \n",
    "#     to a default implementation that \n",
    "#     returns a string containing \n",
    "# #  the object's class name and memory address.  Give example. How? \n",
    "\n",
    "\n",
    "\n"
   ]
  },
  {
   "cell_type": "code",
   "execution_count": 16,
   "id": "558e9f56",
   "metadata": {},
   "outputs": [
    {
     "data": {
      "text/plain": [
       "['__abs__',\n",
       " '__add__',\n",
       " '__and__',\n",
       " '__bool__',\n",
       " '__ceil__',\n",
       " '__class__',\n",
       " '__delattr__',\n",
       " '__dir__',\n",
       " '__divmod__',\n",
       " '__doc__',\n",
       " '__eq__',\n",
       " '__float__',\n",
       " '__floor__',\n",
       " '__floordiv__',\n",
       " '__format__',\n",
       " '__ge__',\n",
       " '__getattribute__',\n",
       " '__getnewargs__',\n",
       " '__gt__',\n",
       " '__hash__',\n",
       " '__index__',\n",
       " '__init__',\n",
       " '__init_subclass__',\n",
       " '__int__',\n",
       " '__invert__',\n",
       " '__le__',\n",
       " '__lshift__',\n",
       " '__lt__',\n",
       " '__mod__',\n",
       " '__mul__',\n",
       " '__ne__',\n",
       " '__neg__',\n",
       " '__new__',\n",
       " '__or__',\n",
       " '__pos__',\n",
       " '__pow__',\n",
       " '__radd__',\n",
       " '__rand__',\n",
       " '__rdivmod__',\n",
       " '__reduce__',\n",
       " '__reduce_ex__',\n",
       " '__repr__',\n",
       " '__rfloordiv__',\n",
       " '__rlshift__',\n",
       " '__rmod__',\n",
       " '__rmul__',\n",
       " '__ror__',\n",
       " '__round__',\n",
       " '__rpow__',\n",
       " '__rrshift__',\n",
       " '__rshift__',\n",
       " '__rsub__',\n",
       " '__rtruediv__',\n",
       " '__rxor__',\n",
       " '__setattr__',\n",
       " '__sizeof__',\n",
       " '__str__',\n",
       " '__sub__',\n",
       " '__subclasshook__',\n",
       " '__truediv__',\n",
       " '__trunc__',\n",
       " '__xor__',\n",
       " 'as_integer_ratio',\n",
       " 'bit_length',\n",
       " 'conjugate',\n",
       " 'denominator',\n",
       " 'from_bytes',\n",
       " 'imag',\n",
       " 'numerator',\n",
       " 'real',\n",
       " 'to_bytes']"
      ]
     },
     "execution_count": 16,
     "metadata": {},
     "output_type": "execute_result"
    }
   ],
   "source": [
    "dir(int)"
   ]
  },
  {
   "cell_type": "code",
   "execution_count": null,
   "id": "3485f357",
   "metadata": {},
   "outputs": [],
   "source": []
  },
  {
   "cell_type": "code",
   "execution_count": null,
   "id": "ab588f07",
   "metadata": {},
   "outputs": [],
   "source": []
  },
  {
   "cell_type": "code",
   "execution_count": 3,
   "id": "cafd3656",
   "metadata": {},
   "outputs": [
    {
     "name": "stdout",
     "output_type": "stream",
     "text": [
      "100\n",
      "100\n"
     ]
    }
   ],
   "source": [
    "x=100\n",
    "print(str(x))\n",
    "\n",
    "print(x.__str__())\n"
   ]
  },
  {
   "cell_type": "code",
   "execution_count": 4,
   "id": "6f230052",
   "metadata": {},
   "outputs": [
    {
     "name": "stdout",
     "output_type": "stream",
     "text": [
      "100\n",
      "100\n"
     ]
    }
   ],
   "source": [
    "x=100\n",
    "print(repr(x))\n",
    "print(x.__repr__())\n"
   ]
  },
  {
   "cell_type": "code",
   "execution_count": 5,
   "id": "086a58a9",
   "metadata": {},
   "outputs": [
    {
     "name": "stdout",
     "output_type": "stream",
     "text": [
      "Hello World\n",
      "'Hello World'\n"
     ]
    }
   ],
   "source": [
    "x=\"Hello World\"\n",
    "print(x.__str__())\n",
    "print(x.__repr__())\n"
   ]
  },
  {
   "cell_type": "raw",
   "id": "ae7d5831",
   "metadata": {},
   "source": [
    "Output of __repr__() is in quotes whereas that of __str__() is not. The reason can be traced to official definitions of these functions, which says that __repr__() method and hence (repr() function) computes official string representation of an object. The str() function i.e. __str__() method returns an informal or printable string representation of concerned object, which is used by the print() and format() functions.\n",
    "\n"
   ]
  },
  {
   "cell_type": "raw",
   "id": "f3dc9262",
   "metadata": {},
   "source": [
    "If you try to use an object of any user-defined class as an argument for the print() function, it uses the default __str__() method of object's class. It doesn't tell any meaningful info of the object other than its memory.\n",
    "\n"
   ]
  },
  {
   "cell_type": "code",
   "execution_count": 8,
   "id": "2e235ae0",
   "metadata": {},
   "outputs": [
    {
     "name": "stdout",
     "output_type": "stream",
     "text": [
      "<__main__.myclass object at 0x0000014474B96B80>\n"
     ]
    }
   ],
   "source": [
    "class myclass:\n",
    "    def __init__(self):\n",
    "        self.name=\"Raj\"\n",
    "        self.age=21\n",
    "\n",
    "obj = myclass()\n",
    "print(obj)\n"
   ]
  },
  {
   "cell_type": "raw",
   "id": "59705a39",
   "metadata": {},
   "source": [
    "Whereas, we would like to obtain string representation showing values of object attributes. This can be done by overriding the __str__() method in the myclass, as shown below."
   ]
  },
  {
   "cell_type": "code",
   "execution_count": 7,
   "id": "b562b148",
   "metadata": {},
   "outputs": [
    {
     "name": "stdout",
     "output_type": "stream",
     "text": [
      "name : Raj age : 21\n",
      "name : Raj age : 21\n"
     ]
    }
   ],
   "source": [
    "class myclass:\n",
    "    def __init__(self):\n",
    "        self.name=\"Raj\"\n",
    "        self.age=21\n",
    "    def __str__(self):\n",
    "        return \"name : {} age : {}\".format(self.name, self.age)\n",
    "\n",
    "obj=myclass()\n",
    "print(obj)\n",
    "print(str(obj))\n",
    "\n",
    "\n"
   ]
  },
  {
   "cell_type": "code",
   "execution_count": 5,
   "id": "6f41aa46",
   "metadata": {},
   "outputs": [
    {
     "name": "stdout",
     "output_type": "stream",
     "text": [
      "<__main__.myclass object at 0x000001FADFE01B80>\n"
     ]
    }
   ],
   "source": [
    "class myclass:\n",
    "    def __init__(self):\n",
    "        self.name=\"Raj\"\n",
    "        self.age=21\n",
    "    \n",
    "\n",
    "obj=myclass()\n",
    "# print(obj)\n",
    "# print(str(obj))\n",
    "\n",
    "print(obj.__str__())\n"
   ]
  },
  {
   "cell_type": "raw",
   "id": "c41dbff9",
   "metadata": {},
   "source": [
    "The print(obj) statement and str(obj) function call both involve converting an object to a string representation, but they behave differently in Python.\n",
    "\n",
    "The print(obj) statement is used to display the string representation of an object to the standard output (usually the console). It automatically calls the __str__ method of the object, if defined, to get the string representation. If the __str__ method is not defined for the object's class, Python falls back to the default implementation, which returns a string containing the object's class name and memory address.\n",
    "\n",
    "On the other hand, str(obj) is a function call that explicitly calls the __str__ method of the object to get its string representation as a result. If the __str__ method is not defined for the object's class, Python will raise an AttributeError indicating that the method is not found.\n",
    "\n",
    "\n",
    "This is because print(obj) implicitly calls the __str__ method of the obj object to get its string representation, while print(str(obj)) explicitly calls the __str__ method using str(obj) and gets the same string representation as a result."
   ]
  },
  {
   "cell_type": "raw",
   "id": "a8cc0bcb",
   "metadata": {},
   "source": [
    "Another difference between the two is, __str__() should always return a string, whereas the __repr__() can return any valid Python expression. Let us add both methods in myclass so that the __repr__() returns a dict object.\n",
    "\n"
   ]
  },
  {
   "cell_type": "code",
   "execution_count": 7,
   "id": "0403d134",
   "metadata": {},
   "outputs": [
    {
     "name": "stdout",
     "output_type": "stream",
     "text": [
      "name : Raj age : 21\n",
      "{'name': 'Raj', 'age': 21}\n"
     ]
    }
   ],
   "source": [
    "class myclass:\n",
    "    def __init__(self):\n",
    "        self.name=\"Raj\"\n",
    "        self.age=21\n",
    "    def __str__(self):\n",
    "        return \"name : {} age : {}\".format(self.name, self.age)\n",
    "    def __repr__(self):\n",
    "        return {\"name\":self.name, \"age\":self.age}\n",
    "        \n",
    "\n",
    "obj = myclass()\n",
    "print(obj.__str__())\n",
    "print(obj.__repr__())"
   ]
  },
  {
   "cell_type": "raw",
   "id": "08658130",
   "metadata": {},
   "source": [
    "Now, this will bring out exact difference between the two. While str() correctly implements the __str__(), repr() function throws the TypeError as it needs __repr__() toreturn a string.\n",
    "\n"
   ]
  },
  {
   "cell_type": "code",
   "execution_count": 9,
   "id": "52e49c61",
   "metadata": {},
   "outputs": [
    {
     "name": "stdout",
     "output_type": "stream",
     "text": [
      "name : Raj age : 21\n"
     ]
    }
   ],
   "source": [
    "print(str(obj))\n"
   ]
  },
  {
   "cell_type": "code",
   "execution_count": 10,
   "id": "12252323",
   "metadata": {},
   "outputs": [
    {
     "ename": "TypeError",
     "evalue": "__repr__ returned non-string (type dict)",
     "output_type": "error",
     "traceback": [
      "\u001b[1;31m---------------------------------------------------------------------------\u001b[0m",
      "\u001b[1;31mTypeError\u001b[0m                                 Traceback (most recent call last)",
      "\u001b[1;32m~\\AppData\\Local\\Temp\\ipykernel_2968\\3411531043.py\u001b[0m in \u001b[0;36m<module>\u001b[1;34m\u001b[0m\n\u001b[1;32m----> 1\u001b[1;33m \u001b[0mprint\u001b[0m\u001b[1;33m(\u001b[0m\u001b[0mrepr\u001b[0m\u001b[1;33m(\u001b[0m\u001b[0mobj\u001b[0m\u001b[1;33m)\u001b[0m\u001b[1;33m)\u001b[0m\u001b[1;33m\u001b[0m\u001b[1;33m\u001b[0m\u001b[0m\n\u001b[0m",
      "\u001b[1;31mTypeError\u001b[0m: __repr__ returned non-string (type dict)"
     ]
    }
   ],
   "source": [
    "print(repr(obj))"
   ]
  },
  {
   "cell_type": "raw",
   "id": "708a2176",
   "metadata": {},
   "source": [
    "The __repr__ method is expected to return a string representation of an object that, when passed to the eval() function, can recreate the object and restore its state. In above example, the __repr__ method is returning a dictionary object instead of a string, which is not a valid representation that can be evaluated by eval().\n",
    "\n"
   ]
  },
  {
   "cell_type": "code",
   "execution_count": null,
   "id": "87b5b6a3",
   "metadata": {},
   "outputs": [],
   "source": []
  },
  {
   "cell_type": "code",
   "execution_count": null,
   "id": "3c180e33",
   "metadata": {},
   "outputs": [],
   "source": []
  },
  {
   "cell_type": "code",
   "execution_count": null,
   "id": "db7665c3",
   "metadata": {},
   "outputs": [],
   "source": []
  },
  {
   "cell_type": "code",
   "execution_count": null,
   "id": "d62beb09",
   "metadata": {},
   "outputs": [],
   "source": []
  },
  {
   "cell_type": "code",
   "execution_count": null,
   "id": "a28dab84",
   "metadata": {},
   "outputs": [],
   "source": []
  },
  {
   "cell_type": "markdown",
   "id": "717fa13c",
   "metadata": {},
   "source": [
    "`__eq__(self, other)`: This method is called when two objects are compared using the == operator and is used to determine if the objects are equal."
   ]
  },
  {
   "cell_type": "code",
   "execution_count": 5,
   "id": "1ccf9bab",
   "metadata": {},
   "outputs": [
    {
     "name": "stdout",
     "output_type": "stream",
     "text": [
      "True\n",
      "False\n"
     ]
    }
   ],
   "source": [
    "class Person:\n",
    "    def __init__(self, name, age):\n",
    "        self.name = name\n",
    "        self.age = age\n",
    "        \n",
    "    def __eq__(self, other):\n",
    "        return self.name == other.name and self.age == other.age\n",
    "\n",
    "person1 = Person(\"Alice\", 25)\n",
    "person2 = Person(\"Alice\", 25)\n",
    "person3 = Person(\"Bob\", 30)\n",
    "\n",
    "print(person1 == person2)  # Output: True\n",
    "print(person1 == person3)  # Output: False\n"
   ]
  },
  {
   "cell_type": "markdown",
   "id": "fb305df8",
   "metadata": {},
   "source": []
  },
  {
   "cell_type": "markdown",
   "id": "bde9a2bd",
   "metadata": {},
   "source": [
    "`__add__(self, other)`: This method is called when two objects are added together using the + operator and is used to define how the objects should be added."
   ]
  },
  {
   "cell_type": "code",
   "execution_count": 11,
   "id": "4fbb4b2c",
   "metadata": {},
   "outputs": [
    {
     "name": "stdout",
     "output_type": "stream",
     "text": [
      "1\n",
      "2\n",
      "4 6\n"
     ]
    }
   ],
   "source": [
    "class Vector:\n",
    "    def __init__(self, x, y):\n",
    "        self.x = x\n",
    "        self.y = y\n",
    "        \n",
    "    def __add__(self, other):\n",
    "        return Vector(self.x + other.x, self.y + other.y)\n",
    "\n",
    "v1 = Vector(1, 2)\n",
    "print(v1.x)\n",
    "print(v1.y)\n",
    "v2 = Vector(3, 4)\n",
    "v3 = v1 + v2\n",
    "print(v3.x, v3.y)  # Output: 4 6\n"
   ]
  },
  {
   "cell_type": "markdown",
   "id": "ff982d2b",
   "metadata": {},
   "source": [
    "__len__(self): This method is called when the len() function is called on an object and is used to return the length of the object."
   ]
  },
  {
   "cell_type": "code",
   "execution_count": 9,
   "id": "19e5b57a",
   "metadata": {},
   "outputs": [
    {
     "name": "stdout",
     "output_type": "stream",
     "text": [
      "5\n"
     ]
    }
   ],
   "source": [
    "class MyList:\n",
    "    def __init__(self, items):\n",
    "        self.items = items\n",
    "        \n",
    "    def __len__(self):\n",
    "        return len(self.items)\n",
    "\n",
    "my_list = MyList([1, 2, 3, 4, 5])\n",
    "print(len(my_list))  # Output: 5"
   ]
  },
  {
   "cell_type": "markdown",
   "id": "19dfced1",
   "metadata": {},
   "source": [
    "__getitem__(self, index): This method is called when an item is accessed using square brackets ([]) and is used to return the value at the given index."
   ]
  },
  {
   "cell_type": "code",
   "execution_count": 12,
   "id": "302bebf3",
   "metadata": {},
   "outputs": [
    {
     "name": "stdout",
     "output_type": "stream",
     "text": [
      "1\n"
     ]
    }
   ],
   "source": [
    "class MyList:\n",
    "    def __init__(self, items):\n",
    "        self.items = items\n",
    "        \n",
    "    def __getitem__(self, index):\n",
    "        return self.items[index]\n",
    "\n",
    "my_list = MyList([1, 2, 3, 4, 5])\n",
    "print(my_list[0])  # Output: 1\n"
   ]
  },
  {
   "cell_type": "markdown",
   "id": "e8b0ea66",
   "metadata": {},
   "source": [
    "__setitem__(self, index, value): This method is called when an item is assigned using square brackets ([]) and is used to set the value at the given index."
   ]
  },
  {
   "cell_type": "code",
   "execution_count": 17,
   "id": "a4e0dc9e",
   "metadata": {},
   "outputs": [
    {
     "name": "stdout",
     "output_type": "stream",
     "text": [
      "Setting name to rollno 0\n",
      "Setting name to rollno 1\n",
      "Setting name to rollno 2\n",
      "Setting name to rollno 3\n",
      "Getting name associated with rollno 0\n",
      "Meghana\n",
      "Getting name associated with rollno slice(0, 4, None)\n",
      "['Meghana', 'Raju', 'Hari', 'Sreeja']\n"
     ]
    }
   ],
   "source": [
    "class Student:   \n",
    "    def __init__(self,size):\n",
    "        self.stu=[None]*size\n",
    "    def __setitem__(self,rollno,name):\n",
    "        #explicitly defined __setitem__\n",
    "        print(\"Setting name to rollno\",rollno)\n",
    "        self.stu[rollno]=name\n",
    "        \n",
    "    def __getitem__(self,rollno):\n",
    "        #explicitly defined __getitem__\n",
    "        print(\"Getting name associated with rollno\",rollno)\n",
    "        return self.stu[rollno]\n",
    "    \n",
    "s1=Student(4)\n",
    "s1[0]='Meghana'\n",
    "s1[1]='Raju'\n",
    "s1[2]='Hari'\n",
    "s1[3]='Sreeja'\n",
    "print(s1[0])\n",
    "print(s1[0:4])"
   ]
  },
  {
   "cell_type": "raw",
   "id": "a8cd074b",
   "metadata": {},
   "source": [
    "[None]*size: This creates a list of None values with a length equal to size, where size is the value passed to the __init__ method.\n",
    "So, self.stu=[None]*size initializes the stu list with size number of None values. This list will be used to store the names of students associated with their roll numbers in the subsequent calls to the __setitem__ and __getitem__ methods of the Student class."
   ]
  },
  {
   "cell_type": "raw",
   "id": "1ad18910",
   "metadata": {},
   "source": [
    "Using None as a placeholder in the list self.stu=[None]*size allows for the list to be initialized with a fixed size, where each element is set to None. This provides an initial structure to store the names of students associated with their roll numbers, but without assigning any specific values initially.\n",
    "\n",
    "Using None as a placeholder can be useful in scenarios where you want to pre-allocate space for a certain number of elements in a list or array, but you don't have the actual values to populate the list at the time of initialization. This allows you to reserve memory for the expected number of elements in advance, without needing to assign any specific values to those elements initially.\n",
    "\n",
    "Later, in the __setitem__ method of the Student class, the specific names are assigned to the elements of the stu list based on the roll numbers provided. This approach provides flexibility to populate the list with actual values as needed, rather than having to assign values at the time of initialization.\n",
    "\n",
    "\n",
    "\n",
    "\n"
   ]
  },
  {
   "cell_type": "code",
   "execution_count": null,
   "id": "f7ac07d8",
   "metadata": {},
   "outputs": [],
   "source": []
  },
  {
   "cell_type": "code",
   "execution_count": 17,
   "id": "468f0881",
   "metadata": {},
   "outputs": [
    {
     "name": "stdout",
     "output_type": "stream",
     "text": [
      "10\n"
     ]
    }
   ],
   "source": [
    "class MyList:\n",
    "    def __init__(self, items):\n",
    "        self.items = items\n",
    "\n",
    "    def __setitem__(self, index, value):\n",
    "        self.items[index] = value\n",
    "\n",
    "    def __getitem__(self, index):\n",
    "        return self.items[index]\n",
    "\n",
    "my_list = MyList([1, 2, 3, 4, 5])\n",
    "my_list[0] = 10\n",
    "print(my_list[0])  # Output: 10\n"
   ]
  },
  {
   "cell_type": "markdown",
   "id": "68b5c50b",
   "metadata": {},
   "source": [
    "__imul__(self, n): modifies this list by repeating it n times\n"
   ]
  },
  {
   "cell_type": "code",
   "execution_count": 18,
   "id": "65c0c2f6",
   "metadata": {},
   "outputs": [
    {
     "name": "stdout",
     "output_type": "stream",
     "text": [
      "[1, 2, 3, 1, 2, 3, 1, 2, 3]\n"
     ]
    }
   ],
   "source": [
    "my_list1 = [1, 2, 3]\n",
    "my_list1 *= 3\n",
    "print(my_list1)  # Output: [1, 2, 3, 1, 2, 3, 1, 2, 3]\n"
   ]
  },
  {
   "cell_type": "code",
   "execution_count": 20,
   "id": "e53ee2a4",
   "metadata": {},
   "outputs": [
    {
     "name": "stdout",
     "output_type": "stream",
     "text": [
      "Original list: [1, 2, 3]\n"
     ]
    },
    {
     "ename": "AttributeError",
     "evalue": "'NoneType' object has no attribute 'elements'",
     "output_type": "error",
     "traceback": [
      "\u001b[1;31m---------------------------------------------------------------------------\u001b[0m",
      "\u001b[1;31mAttributeError\u001b[0m                            Traceback (most recent call last)",
      "\u001b[1;32m~\\AppData\\Local\\Temp\\ipykernel_2968\\3028542931.py\u001b[0m in \u001b[0;36m<module>\u001b[1;34m\u001b[0m\n\u001b[0;32m     15\u001b[0m \u001b[0mmy_list\u001b[0m \u001b[1;33m*=\u001b[0m \u001b[1;36m3\u001b[0m\u001b[1;33m\u001b[0m\u001b[1;33m\u001b[0m\u001b[0m\n\u001b[0;32m     16\u001b[0m \u001b[1;33m\u001b[0m\u001b[0m\n\u001b[1;32m---> 17\u001b[1;33m \u001b[0mprint\u001b[0m\u001b[1;33m(\u001b[0m\u001b[1;34m\"Modified list:\"\u001b[0m\u001b[1;33m,\u001b[0m \u001b[0mmy_list\u001b[0m\u001b[1;33m.\u001b[0m\u001b[0melements\u001b[0m\u001b[1;33m)\u001b[0m  \u001b[1;31m# Output: Modified list: [1, 2, 3, 1, 2, 3, 1, 2, 3]\u001b[0m\u001b[1;33m\u001b[0m\u001b[1;33m\u001b[0m\u001b[0m\n\u001b[0m",
      "\u001b[1;31mAttributeError\u001b[0m: 'NoneType' object has no attribute 'elements'"
     ]
    }
   ],
   "source": [
    "class MyList:\n",
    "    def __init__(self, elements):\n",
    "        self.elements = elements\n",
    "\n",
    "    def __imul__(self, n):\n",
    "        # Modify the list by repeating it n times\n",
    "        self.elements *= n\n",
    "\n",
    "# Create an instance of MyList\n",
    "my_list = MyList([1, 2, 3])\n",
    "\n",
    "print(\"Original list:\", my_list.elements)  # Output: Original list: [1, 2, 3]\n",
    "\n",
    "# Multiply the list in-place by 3\n",
    "my_list *= 3\n",
    "\n",
    "print(\"Modified list:\", my_list.elements)  # Output: Modified list: [1, 2, 3, 1, 2, 3, 1, 2, 3]\n"
   ]
  },
  {
   "cell_type": "code",
   "execution_count": null,
   "id": "922b54f5",
   "metadata": {},
   "outputs": [],
   "source": []
  }
 ],
 "metadata": {
  "kernelspec": {
   "display_name": "Python 3 (ipykernel)",
   "language": "python",
   "name": "python3"
  },
  "language_info": {
   "codemirror_mode": {
    "name": "ipython",
    "version": 3
   },
   "file_extension": ".py",
   "mimetype": "text/x-python",
   "name": "python",
   "nbconvert_exporter": "python",
   "pygments_lexer": "ipython3",
   "version": "3.9.13"
  }
 },
 "nbformat": 4,
 "nbformat_minor": 5
}
