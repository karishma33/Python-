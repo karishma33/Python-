{
 "cells": [
  {
   "cell_type": "raw",
   "id": "55c2d25d",
   "metadata": {},
   "source": [
    "In Python, you can specify a variable number of arguments when calling a function by adding * or ** to the beginning of parameter names in the function definition.\n",
    "\n",
    "By convention, *args (arguments) and **kwargs (keyword arguments) are often used as parameter names, but you can use any name as long as * and ** are placed at the beginning. "
   ]
  },
  {
   "attachments": {
    "image.png": {
     "image/png": "[encoded data removed]"
    }
   },
   "cell_type": "markdown",
   "id": "fb7b0798",
   "metadata": {},
   "source": [
    "![image.png](attachment:image.png)"
   ]
  },
  {
   "cell_type": "raw",
   "id": "632cedcb",
   "metadata": {},
   "source": [
    "*args: Receive multiple arguments as a tuple\n"
   ]
  },
  {
   "cell_type": "markdown",
   "id": "07fcbdad",
   "metadata": {},
   "source": [
    "By defining a parameter with a preceding *, such as *args, a function can accept any number of arguments:"
   ]
  },
  {
   "cell_type": "code",
   "execution_count": 1,
   "id": "67662c83",
   "metadata": {},
   "outputs": [],
   "source": [
    "def my_sum(*args):\n",
    "    return sum(args)"
   ]
  },
  {
   "cell_type": "code",
   "execution_count": 2,
   "id": "f6eaa836",
   "metadata": {},
   "outputs": [
    {
     "data": {
      "text/plain": [
       "5"
      ]
     },
     "execution_count": 2,
     "metadata": {},
     "output_type": "execute_result"
    }
   ],
   "source": [
    "my_sum(2,3)"
   ]
  },
  {
   "cell_type": "code",
   "execution_count": 3,
   "id": "1035b9b1",
   "metadata": {},
   "outputs": [
    {
     "data": {
      "text/plain": [
       "4"
      ]
     },
     "execution_count": 3,
     "metadata": {},
     "output_type": "execute_result"
    }
   ],
   "source": [
    "my_sum(1,1,1,1)"
   ]
  },
  {
   "cell_type": "code",
   "execution_count": 4,
   "id": "c579aba1",
   "metadata": {},
   "outputs": [],
   "source": [
    "def some_fun(*k):\n",
    "    return sum(k)"
   ]
  },
  {
   "cell_type": "code",
   "execution_count": 5,
   "id": "81d902ae",
   "metadata": {},
   "outputs": [
    {
     "data": {
      "text/plain": [
       "5"
      ]
     },
     "execution_count": 5,
     "metadata": {},
     "output_type": "execute_result"
    }
   ],
   "source": [
    "some_fun(2,3)"
   ]
  },
  {
   "cell_type": "code",
   "execution_count": 1,
   "id": "7e75b86b",
   "metadata": {},
   "outputs": [
    {
     "name": "stdout",
     "output_type": "stream",
     "text": [
      "10\n",
      "36\n"
     ]
    }
   ],
   "source": [
    "\n",
    "\n",
    "print(my_sum(1, 2, 3, 4))\n",
    "# 10\n",
    "\n",
    "print(my_sum(1, 2, 3, 4, 5, 6, 7, 8))\n",
    "# 36"
   ]
  },
  {
   "cell_type": "markdown",
   "id": "9852c23f",
   "metadata": {},
   "source": [
    "In the function, multiple arguments are received as a tuple, which is then passed to the sum() function to calculate the sum in the example:"
   ]
  },
  {
   "cell_type": "code",
   "execution_count": 2,
   "id": "8bbc955e",
   "metadata": {},
   "outputs": [
    {
     "name": "stdout",
     "output_type": "stream",
     "text": [
      "args:  (1, 2, 3, 4)\n",
      "type:  <class 'tuple'>\n",
      "sum :  10\n"
     ]
    }
   ],
   "source": [
    "def my_sum2(*args):\n",
    "    print('args: ', args)\n",
    "    print('type: ', type(args))\n",
    "    print('sum : ', sum(args))\n",
    "\n",
    "my_sum2(1, 2, 3, 4)\n",
    "# args:  (1, 2, 3, 4)\n",
    "# type:  <class 'tuple'>\n",
    "# sum :  10"
   ]
  },
  {
   "cell_type": "markdown",
   "id": "d16bfaa8",
   "metadata": {},
   "source": [
    "It can be used with positional arguments.\n",
    "\n",
    "The values specified after the positional arguments are passed as a tuple to args. If no extra positional arguments are passed, args will be an empty tuple:"
   ]
  },
  {
   "cell_type": "code",
   "execution_count": 6,
   "id": "ba085f38",
   "metadata": {},
   "outputs": [
    {
     "name": "stdout",
     "output_type": "stream",
     "text": [
      "arg1:  0\n",
      "arg2:  1\n",
      "args:  (2, 3, 4)\n",
      "\n",
      "\n",
      "arg1:  0\n",
      "arg2:  1\n",
      "args:  ()\n"
     ]
    }
   ],
   "source": [
    "def func_args(arg1, arg2, *args):\n",
    "    print('arg1: ', arg1)\n",
    "    print('arg2: ', arg2)\n",
    "    print('args: ', args)\n",
    "\n",
    "func_args(0, 1, 2, 3, 4)\n",
    "# arg1:  0\n",
    "# arg2:  1\n",
    "# args:  (2, 3, 4)\n",
    "print(\"\\n\")\n",
    "func_args(0, 1)\n",
    "# arg1:  0\n",
    "# arg2:  1\n",
    "# args:  ()"
   ]
  },
  {
   "attachments": {
    "image.png": {
     "image/png": "[encoded data removed]"
    }
   },
   "cell_type": "markdown",
   "id": "53bc98e4",
   "metadata": {},
   "source": [
    "![image.png](attachment:image.png)"
   ]
  },
  {
   "cell_type": "code",
   "execution_count": 7,
   "id": "2c1c1540",
   "metadata": {},
   "outputs": [
    {
     "name": "stdout",
     "output_type": "stream",
     "text": [
      "arg1:  0\n",
      "arg2:  4\n",
      "args:  (1, 2, 3)\n"
     ]
    }
   ],
   "source": [
    "def func_args2(arg1, *args, arg2):\n",
    "    print('arg1: ', arg1)\n",
    "    print('arg2: ', arg2)\n",
    "    print('args: ', args)\n",
    "\n",
    "# func_args2(0, 1, 2, 3, 4)\n",
    "# TypeError: func_args2() missing 1 required keyword-only argument: 'arg2'\n",
    "\n",
    "func_args2(0, 1, 2, 3, arg2=4)\n",
    "# arg1:  0\n",
    "# arg2:  4\n",
    "# args:  (1, 2, 3)"
   ]
  },
  {
   "cell_type": "markdown",
   "id": "ab2f2bde",
   "metadata": {},
   "source": [
    "With this property, you can define a parameter named * and treat any subsequent parameters as keyword-only arguments:"
   ]
  },
  {
   "cell_type": "code",
   "execution_count": 8,
   "id": "cc06e63d",
   "metadata": {},
   "outputs": [
    {
     "name": "stdout",
     "output_type": "stream",
     "text": [
      "arg1:  100\n",
      "arg2:  200\n"
     ]
    }
   ],
   "source": [
    "def func_args_kw_only(arg1, *, arg2):\n",
    "    print('arg1: ', arg1)\n",
    "    print('arg2: ', arg2)\n",
    "\n",
    "# func_args_kw_only(100, 200)\n",
    "# TypeError: func_args_kw_only() takes 1 positional argument but 2 were given\n",
    "\n",
    "func_args_kw_only(100, arg2=200)\n",
    "# arg1:  100\n",
    "# arg2:  200"
   ]
  },
  {
   "cell_type": "markdown",
   "id": "d34050ba",
   "metadata": {},
   "source": [
    "##### **kwargs: Receive multiple keyword arguments as a dictionary\n"
   ]
  },
  {
   "attachments": {
    "image.png": {
     "image/png": "[encoded data removed]"
    }
   },
   "cell_type": "markdown",
   "id": "9fafe47b",
   "metadata": {},
   "source": [
    "![image.png](attachment:image.png)"
   ]
  },
  {
   "cell_type": "code",
   "execution_count": 10,
   "id": "3c925898",
   "metadata": {},
   "outputs": [
    {
     "name": "stdout",
     "output_type": "stream",
     "text": [
      "kwargs:  {'key1': 1, 'key2': 2, 'key3': 3}\n",
      "type:  <class 'dict'>\n"
     ]
    }
   ],
   "source": [
    "def func_kwargs(**kwargs):\n",
    "    print('kwargs: ', kwargs)\n",
    "    print('type: ', type(kwargs))\n",
    "\n",
    "func_kwargs(key1=1, key2=2, key3=3)\n",
    "# kwargs:  {'key1': 1, 'key2': 2, 'key3': 3}\n",
    "# type:  <class 'dict'>"
   ]
  },
  {
   "cell_type": "markdown",
   "id": "586d9cc4",
   "metadata": {},
   "source": [
    "The `func_kwargs` function accepts keyword arguments using the `**kwargs` syntax. This allows you to pass an arbitrary number of keyword arguments to the function. \n",
    "\n",
    "When you call the function `func_kwargs(key1=1, key2=2, key3=3)`, the keyword arguments `key1`, `key2`, and `key3` are passed to the function as a dictionary. The keys of the dictionary are the parameter names (`key1`, `key2`, `key3`), and the values are the corresponding values you provided (`1`, `2`, `3`).\n",
    "\n",
    "In the function, the line `print('kwargs: ', kwargs)` prints the dictionary of keyword arguments, which in this case is `{'key1': 1, 'key2': 2, 'key3': 3}`. \n",
    "\n",
    "The line `print('type: ', type(kwargs))` prints the type of the `kwargs` variable, which is a dictionary. The output you should see is `type:  <class 'dict'>`.\n",
    "\n",
    "So, the values are indeed present in the dictionary as the corresponding values for the keys."
   ]
  },
  {
   "cell_type": "raw",
   "id": "7939be5a",
   "metadata": {},
   "source": [
    "**kwargs can also be used alongside positional arguments:\n",
    "\n"
   ]
  },
  {
   "cell_type": "code",
   "execution_count": 11,
   "id": "7638f85c",
   "metadata": {},
   "outputs": [
    {
     "name": "stdout",
     "output_type": "stream",
     "text": [
      "arg1:  0\n",
      "arg2:  1\n",
      "kwargs:  {'key1': 1}\n"
     ]
    }
   ],
   "source": [
    "def func_kwargs_positional(arg1, arg2, **kwargs):\n",
    "    print('arg1: ', arg1)\n",
    "    print('arg2: ', arg2)\n",
    "    print('kwargs: ', kwargs)\n",
    "\n",
    "func_kwargs_positional(0, 1, key1=1)\n",
    "# arg1:  0\n",
    "# arg2:  1\n",
    "# kwargs:  {'key1': 1}"
   ]
  },
  {
   "cell_type": "markdown",
   "id": "6aded9af",
   "metadata": {},
   "source": [
    "When calling a function, adding ** to a dictionary object allows you to pass each element of the dictionary as individual arguments:"
   ]
  },
  {
   "cell_type": "code",
   "execution_count": 12,
   "id": "1fafcf8a",
   "metadata": {},
   "outputs": [
    {
     "name": "stdout",
     "output_type": "stream",
     "text": [
      "arg1:  100\n",
      "arg2:  200\n",
      "kwargs:  {'key1': 1, 'key2': 2}\n"
     ]
    }
   ],
   "source": [
    "d = {'key1': 1, 'key2': 2, 'arg1': 100, 'arg2': 200}\n",
    "\n",
    "func_kwargs_positional(**d)\n",
    "# arg1:  100\n",
    "# arg2:  200\n",
    "# kwargs:  {'key1': 1, 'key2': 2}"
   ]
  },
  {
   "attachments": {
    "image.png": {
     "image/png": "[encoded data removed]"
    }
   },
   "cell_type": "markdown",
   "id": "62fafd9b",
   "metadata": {},
   "source": [
    "![image.png](attachment:image.png)"
   ]
  },
  {
   "cell_type": "markdown",
   "id": "e50c2d42",
   "metadata": {},
   "source": [
    "Complete "
   ]
  },
  {
   "cell_type": "markdown",
   "id": "9ecb7212",
   "metadata": {},
   "source": [
    "https://note.nkmk.me/en/python-function-def-return/"
   ]
  },
  {
   "cell_type": "code",
   "execution_count": null,
   "id": "05840fff",
   "metadata": {},
   "outputs": [],
   "source": []
  },
  {
   "cell_type": "code",
   "execution_count": null,
   "id": "9fcee86d",
   "metadata": {},
   "outputs": [],
   "source": []
  },
  {
   "cell_type": "code",
   "execution_count": null,
   "id": "acf385f4",
   "metadata": {},
   "outputs": [],
   "source": []
  },
  {
   "cell_type": "code",
   "execution_count": null,
   "id": "69029ea6",
   "metadata": {},
   "outputs": [],
   "source": []
  },
  {
   "cell_type": "code",
   "execution_count": null,
   "id": "944a8ef9",
   "metadata": {},
   "outputs": [],
   "source": []
  }
 ],
 "metadata": {
  "kernelspec": {
   "display_name": "Python 3 (ipykernel)",
   "language": "python",
   "name": "python3"
  },
  "language_info": {
   "codemirror_mode": {
    "name": "ipython",
    "version": 3
   },
   "file_extension": ".py",
   "mimetype": "text/x-python",
   "name": "python",
   "nbconvert_exporter": "python",
   "pygments_lexer": "ipython3",
   "version": "3.9.13"
  }
 },
 "nbformat": 4,
 "nbformat_minor": 5
}
