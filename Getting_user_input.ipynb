{
 "cells": [
  {
   "cell_type": "markdown",
   "id": "55dfc1e7",
   "metadata": {},
   "source": [
    "Source:\n",
    "- https://www.programiz.com/python-programming/input-output-import\n",
    "- "
   ]
  },
  {
   "cell_type": "code",
   "execution_count": null,
   "id": "47e31288",
   "metadata": {},
   "outputs": [],
   "source": []
  },
  {
   "cell_type": "markdown",
   "id": "7cf51d3b",
   "metadata": {},
   "source": [
    "### Basic Input and Output"
   ]
  },
  {
   "cell_type": "raw",
   "id": "0903965b",
   "metadata": {},
   "source": [
    "print(object= separator= end= file= flush=)\n",
    "\n",
    "Here,\n",
    "\n",
    "object - value(s) to be printed\n",
    "sep (optional) - allows us to separate multiple objects inside print().\n",
    "end (optional) - allows us to add add specific values like new line \"\\n\", tab \"\\t\"\n",
    "file (optional) - where the values are printed. It's default value is sys.stdout (screen)\n",
    "flush (optional) - boolean specifying if the output is flushed or buffered. Default: False\n"
   ]
  },
  {
   "cell_type": "markdown",
   "id": "9dc9f309",
   "metadata": {},
   "source": [
    "#### Example 1: Python Print Statement\n"
   ]
  },
  {
   "cell_type": "code",
   "execution_count": 1,
   "id": "66ac48d6",
   "metadata": {},
   "outputs": [
    {
     "name": "stdout",
     "output_type": "stream",
     "text": [
      "Good Morning!\n",
      "It is rainy today\n"
     ]
    }
   ],
   "source": [
    "print('Good Morning!')\n",
    "print('It is rainy today')"
   ]
  },
  {
   "cell_type": "code",
   "execution_count": 1,
   "id": "38fee337",
   "metadata": {},
   "outputs": [
    {
     "name": "stdout",
     "output_type": "stream",
     "text": [
      "Good Morning! It is rainy today\n"
     ]
    }
   ],
   "source": [
    "print('Good Morning!', end=' ')\n",
    "print('It is rainy today')"
   ]
  },
  {
   "cell_type": "code",
   "execution_count": 1,
   "id": "67ad0500",
   "metadata": {},
   "outputs": [
    {
     "name": "stdout",
     "output_type": "stream",
     "text": [
      "Good Morning! It is rainy today\n",
      "Awesome\n"
     ]
    }
   ],
   "source": [
    "print('Good Morning!', end=' ')\n",
    "print('It is rainy today')\n",
    "print(\"Awesome\")"
   ]
  },
  {
   "cell_type": "markdown",
   "id": "8a581410",
   "metadata": {},
   "source": [
    "In the above example, the print() statement only includes the object to be printed. Here, the value for end is not used. Hence, it takes the default value '\\n'.\n",
    "\n",
    "So we get the output in two different lines."
   ]
  },
  {
   "cell_type": "markdown",
   "id": "45501297",
   "metadata": {},
   "source": [
    "#### Example 2: Python print() with end Parameter\n"
   ]
  },
  {
   "cell_type": "code",
   "execution_count": 2,
   "id": "fd5069d6",
   "metadata": {},
   "outputs": [
    {
     "name": "stdout",
     "output_type": "stream",
     "text": [
      "Good Morning! It is rainy today\n",
      "It is fantastic day\n"
     ]
    }
   ],
   "source": [
    "# print with end whitespace\n",
    "print('Good Morning!', end= ' ')\n",
    "\n",
    "print('It is rainy today')\n",
    "print('It is fantastic day')\n",
    "\n",
    "# Notice that we have included the end= ' ' \n",
    "# after the end of the first print() statement.\n",
    "\n",
    "# Hence, we get the output\n",
    "# in a single line separated by space."
   ]
  },
  {
   "cell_type": "code",
   "execution_count": 3,
   "id": "2e865bdd",
   "metadata": {},
   "outputs": [
    {
     "name": "stdout",
     "output_type": "stream",
     "text": [
      "Good Morning! It is rainy today It is fantastic day\n"
     ]
    }
   ],
   "source": [
    "# print with end whitespace\n",
    "print('Good Morning!', end= ' ')\n",
    "\n",
    "print('It is rainy today', end=' ')\n",
    "print('It is fantastic day')\n",
    "\n",
    "# Notice that we have included the end= ' ' \n",
    "# after the end of the first print() statement.\n",
    "\n",
    "# Hence, we get the output\n",
    "# in a single line separated by space."
   ]
  },
  {
   "cell_type": "markdown",
   "id": "19a13cc2",
   "metadata": {},
   "source": [
    "#### Example 3: Python print() with sep parameter\n"
   ]
  },
  {
   "cell_type": "code",
   "execution_count": 3,
   "id": "9f05cee4",
   "metadata": {},
   "outputs": [
    {
     "name": "stdout",
     "output_type": "stream",
     "text": [
      "New Year. 2023. See you soon!\n"
     ]
    },
    {
     "data": {
      "text/plain": [
       "'\\nIn the above example, the print() statement includes \\nmultiple items separated by a comma.\\n\\nNotice that we have used the optional parameter \\nsep= \". \" inside the print() statement.\\n'"
      ]
     },
     "execution_count": 3,
     "metadata": {},
     "output_type": "execute_result"
    }
   ],
   "source": [
    "print('New Year', 2023, 'See you soon!', sep= '. ')\n",
    "\n",
    "\"\"\"\n",
    "In the above example, the print() statement includes \n",
    "multiple items separated by a comma.\n",
    "\n",
    "Notice that we have used the optional parameter \n",
    "sep= \". \" inside the print() statement.\n",
    "\"\"\""
   ]
  },
  {
   "cell_type": "code",
   "execution_count": 2,
   "id": "b59660e4",
   "metadata": {},
   "outputs": [
    {
     "name": "stdout",
     "output_type": "stream",
     "text": [
      "New Year 2023 See you soon!\n"
     ]
    },
    {
     "data": {
      "text/plain": [
       "'\\nIn the above example, the print() statement includes \\nmultiple items separated by a comma.\\n\\nNotice that we have used the optional parameter \\nsep= \". \" inside the print() statement.\\n'"
      ]
     },
     "execution_count": 2,
     "metadata": {},
     "output_type": "execute_result"
    }
   ],
   "source": [
    "print('New Year', 2023, 'See you soon!')\n",
    "\n",
    "\"\"\"\n",
    "In the above example, the print() statement includes \n",
    "multiple items separated by a comma.\n",
    "\n",
    "Notice that we have used the optional parameter \n",
    "sep= \". \" inside the print() statement.\n",
    "\"\"\""
   ]
  },
  {
   "cell_type": "code",
   "execution_count": 4,
   "id": "59945522",
   "metadata": {},
   "outputs": [
    {
     "name": "stdout",
     "output_type": "stream",
     "text": [
      "New Year 2023 See you soon!\n"
     ]
    },
    {
     "data": {
      "text/plain": [
       "'\\nIn the above example, the print() statement includes \\nmultiple items separated by a comma.\\n\\nNotice that we have used the optional parameter \\nsep= \". \" inside the print() statement.\\n'"
      ]
     },
     "execution_count": 4,
     "metadata": {},
     "output_type": "execute_result"
    }
   ],
   "source": [
    "print('New Year', 2023, 'See you soon!')\n",
    "\n",
    "\"\"\"\n",
    "In the above example, the print() statement includes \n",
    "multiple items separated by a comma.\n",
    "\n",
    "Notice that we have used the optional parameter \n",
    "sep= \". \" inside the print() statement.\n",
    "\"\"\""
   ]
  },
  {
   "cell_type": "markdown",
   "id": "86d55af2",
   "metadata": {},
   "source": [
    "#### Print Python Variables and Literals"
   ]
  },
  {
   "cell_type": "code",
   "execution_count": 5,
   "id": "6bfa9683",
   "metadata": {},
   "outputs": [
    {
     "name": "stdout",
     "output_type": "stream",
     "text": [
      "5\n",
      "-10.6\n",
      "7M\n"
     ]
    }
   ],
   "source": [
    "number = -10.6\n",
    "\n",
    "name = \"7M\"\n",
    "\n",
    "# print literals     \n",
    "print(5)\n",
    "\n",
    "# print variables\n",
    "print(number)\n",
    "print(name)"
   ]
  },
  {
   "cell_type": "markdown",
   "id": "f1459841",
   "metadata": {},
   "source": [
    "#### Print Concatenated Strings"
   ]
  },
  {
   "cell_type": "code",
   "execution_count": 10,
   "id": "b60576ca",
   "metadata": {},
   "outputs": [
    {
     "name": "stdout",
     "output_type": "stream",
     "text": [
      "Awesome Python Programming\n"
     ]
    }
   ],
   "source": [
    "print('Awesome ' + 'Python '+'Programming')\n",
    "# Joining the words by + "
   ]
  },
  {
   "cell_type": "code",
   "execution_count": 4,
   "id": "618e72e5",
   "metadata": {},
   "outputs": [
    {
     "name": "stdout",
     "output_type": "stream",
     "text": [
      "AwesomePythonProgramming\n"
     ]
    }
   ],
   "source": [
    "print('Awesome' + 'Python'+'Programming')\n",
    "# Joining the words by + "
   ]
  },
  {
   "cell_type": "code",
   "execution_count": 8,
   "id": "0d4ead75",
   "metadata": {},
   "outputs": [
    {
     "name": "stdout",
     "output_type": "stream",
     "text": [
      "Awesome Python Programming\n"
     ]
    }
   ],
   "source": [
    "print('Awesome', 'Python', 'Programming', sep=' ')\n"
   ]
  },
  {
   "cell_type": "markdown",
   "id": "ad1b21c7",
   "metadata": {},
   "source": [
    "#### Output formatting\n"
   ]
  },
  {
   "cell_type": "raw",
   "id": "8bdfb4a3",
   "metadata": {},
   "source": [
    "Sometimes we would like to format our output to make it look attractive. This can be done by using the str.format() method. "
   ]
  },
  {
   "cell_type": "code",
   "execution_count": 5,
   "id": "099576de",
   "metadata": {},
   "outputs": [
    {
     "name": "stdout",
     "output_type": "stream",
     "text": [
      "The value of x is 5, y is 10, z is 33\n",
      "The value of y is 10 and x is 5\n"
     ]
    }
   ],
   "source": [
    "x = 5\n",
    "y = 10\n",
    "z=33\n",
    "\n",
    "print('The value of x is {}, y is {}, z is {}'.format(x,y,z))\n",
    "\n",
    "# Change the placeholders \n",
    "print('The value of y is {} and x is {}'.format(y,x))"
   ]
  },
  {
   "cell_type": "code",
   "execution_count": 2,
   "id": "036244dd",
   "metadata": {},
   "outputs": [
    {
     "name": "stdout",
     "output_type": "stream",
     "text": [
      "The value of x is 5, y is 10, z is 33\n"
     ]
    }
   ],
   "source": [
    "x = 45\n",
    "y = 2\n",
    "z=22\n",
    "\n",
    "print(\"The value of x is 5, y is 10, z is 33\")\n"
   ]
  },
  {
   "cell_type": "raw",
   "id": "5e00d587",
   "metadata": {},
   "source": [
    "Here, the curly braces {} are used as placeholders. We can specify the order in which they are printed by using numbers (tuple index)."
   ]
  },
  {
   "cell_type": "code",
   "execution_count": 1,
   "id": "321db121",
   "metadata": {},
   "outputs": [
    {
     "name": "stdout",
     "output_type": "stream",
     "text": [
      "Enter your name K\n",
      "Hello K \n"
     ]
    }
   ],
   "source": [
    "name= input(\"Enter your name \")\n",
    "print(\"Hello {} \".format(name))\n"
   ]
  },
  {
   "cell_type": "code",
   "execution_count": 10,
   "id": "9788e2da",
   "metadata": {},
   "outputs": [
    {
     "name": "stdout",
     "output_type": "stream",
     "text": [
      "Variable var is 12\n"
     ]
    }
   ],
   "source": [
    "# f strings (formatted strings)\n",
    "var=12\n",
    "print(f\"Variable var is {var}\")"
   ]
  },
  {
   "cell_type": "code",
   "execution_count": 11,
   "id": "db4895fd",
   "metadata": {},
   "outputs": [
    {
     "name": "stdout",
     "output_type": "stream",
     "text": [
      "The value of x is 45, y is 2, z is 22\n"
     ]
    }
   ],
   "source": [
    "x = 45\n",
    "y = 2\n",
    "z=22\n",
    "print(f\"The value of x is {x}, y is {y}, z is {z}\")"
   ]
  },
  {
   "cell_type": "markdown",
   "id": "88598012",
   "metadata": {},
   "source": [
    "#### Python Input\n"
   ]
  },
  {
   "attachments": {
    "image.png": {
     "image/png": "[encoded data removed]"
    }
   },
   "cell_type": "markdown",
   "id": "814bf5a6",
   "metadata": {},
   "source": [
    "![image.png](attachment:image.png)"
   ]
  },
  {
   "cell_type": "code",
   "execution_count": 15,
   "id": "5dbe46da",
   "metadata": {},
   "outputs": [
    {
     "name": "stdout",
     "output_type": "stream",
     "text": [
      "Enter a number: 66\n",
      "You Entered: 66\n",
      "Data type of num: <class 'str'>\n"
     ]
    }
   ],
   "source": [
    "# using input() to take user input\n",
    "num = input('Enter a number: ')\n",
    "\n",
    "print('You Entered:', num)\n",
    "\n",
    "print('Data type of num:', type(num))"
   ]
  },
  {
   "cell_type": "markdown",
   "id": "ea14911c",
   "metadata": {},
   "source": [
    "In the above example, we have used the input() function to take input from the user and stored the user input in the num variable.\n",
    "\n",
    "It is important to note that the entered value 10 is a string, not a number. So, `type(num)` returns `<class 'str'>`\n",
    "\n",
    "To convert user input into a number we can use int() or float() functions as:"
   ]
  },
  {
   "cell_type": "code",
   "execution_count": 17,
   "id": "1d1147df",
   "metadata": {},
   "outputs": [
    {
     "name": "stdout",
     "output_type": "stream",
     "text": [
      "Enter a number: 44\n",
      "You Entered: 44\n",
      "Data type of num: <class 'int'>\n"
     ]
    }
   ],
   "source": [
    "num = int(input('Enter a number: '))\n",
    "print('You Entered:', num)\n",
    "print('Data type of num:', type(num))"
   ]
  },
  {
   "cell_type": "markdown",
   "id": "7a625300",
   "metadata": {},
   "source": [
    "#### How to Handle Exceptions When Reading Input\n"
   ]
  },
  {
   "cell_type": "code",
   "execution_count": 1,
   "id": "120ef4e0",
   "metadata": {},
   "outputs": [
    {
     "name": "stdout",
     "output_type": "stream",
     "text": [
      "Tell me your age: seven\n"
     ]
    },
    {
     "ename": "ValueError",
     "evalue": "invalid literal for int() with base 10: 'seven'",
     "output_type": "error",
     "traceback": [
      "\u001b[1;31m---------------------------------------------------------------------------\u001b[0m",
      "\u001b[1;31mValueError\u001b[0m                                Traceback (most recent call last)",
      "\u001b[1;32m<ipython-input-1-b65b7baa8b3c>\u001b[0m in \u001b[0;36m<module>\u001b[1;34m\u001b[0m\n\u001b[0;32m      1\u001b[0m \u001b[0mtest2word\u001b[0m \u001b[1;33m=\u001b[0m \u001b[0minput\u001b[0m\u001b[1;33m(\u001b[0m\u001b[1;34m\"Tell me your age: \"\u001b[0m\u001b[1;33m)\u001b[0m\u001b[1;33m\u001b[0m\u001b[1;33m\u001b[0m\u001b[0m\n\u001b[1;32m----> 2\u001b[1;33m \u001b[0mtest2num\u001b[0m \u001b[1;33m=\u001b[0m \u001b[0mint\u001b[0m\u001b[1;33m(\u001b[0m\u001b[0mtest2word\u001b[0m\u001b[1;33m)\u001b[0m\u001b[1;33m\u001b[0m\u001b[1;33m\u001b[0m\u001b[0m\n\u001b[0m\u001b[0;32m      3\u001b[0m \u001b[0mprint\u001b[0m\u001b[1;33m(\u001b[0m\u001b[1;34m\"Wow! Your age is \"\u001b[0m\u001b[1;33m,\u001b[0m \u001b[0mtest2num\u001b[0m\u001b[1;33m)\u001b[0m\u001b[1;33m\u001b[0m\u001b[1;33m\u001b[0m\u001b[0m\n",
      "\u001b[1;31mValueError\u001b[0m: invalid literal for int() with base 10: 'seven'"
     ]
    }
   ],
   "source": [
    "test2word = input(\"Tell me your age: \")\n",
    "test2num = int(test2word)\n",
    "print(\"Wow! Your age is \", test2num)"
   ]
  },
  {
   "cell_type": "code",
   "execution_count": 20,
   "id": "870c6a9b",
   "metadata": {},
   "outputs": [
    {
     "name": "stdout",
     "output_type": "stream",
     "text": [
      "Enter number: nine\n",
      "This is not a valid number. It isn't a number at all! This is a string, go and try again.\n"
     ]
    }
   ],
   "source": [
    "test3word = input(\"Enter number: \")\n",
    "\n",
    "\n",
    "try:\n",
    "    \n",
    "    \n",
    "    \n",
    "    test3num = int(test3word)\n",
    "    print(\"This is a valid number! The number enterered is: \", test3num)\n",
    "except ValueError:\n",
    "    print(\"This is not a valid number. It isn't a number at all! This is a string, go and try again.\")"
   ]
  },
  {
   "cell_type": "markdown",
   "id": "dc0928ac",
   "metadata": {},
   "source": [
    "This code block will evaluate the new input. If the input is an integer represented as a string then the int() function will convert it into a proper integer. If not, an exception will be raised, but instead of crashing the application it will be caught and the second print statement is run."
   ]
  },
  {
   "cell_type": "code",
   "execution_count": 29,
   "id": "9e55bc75",
   "metadata": {},
   "outputs": [
    {
     "name": "stdout",
     "output_type": "stream",
     "text": [
      "What's your name? l\n",
      "From 1 to 7, how many hours do you use your smartphone?1\n",
      "Impressive, l ! You spent 60 minutes or 3600 seconds using your smartphone!\n"
     ]
    }
   ],
   "source": [
    "# Make a function that will contain the\n",
    "# desired program.\n",
    "def example():\n",
    "\n",
    "    # Call for an infinite loop that keeps executing\n",
    "    # until an exception occurs\n",
    "    while True:\n",
    "        test4word = input(\"What's your name? \")\n",
    "\n",
    "        try:\n",
    "            test4num = int(input(\"From 1 to 7, how many hours do you use your smartphone?\" ))\n",
    "\n",
    "        # If something else that is not the string\n",
    "        # version of a number is introduced, the\n",
    "        # ValueError exception will be called.\n",
    "        except ValueError:\n",
    "            # The cycle will go on until validation\n",
    "            print(\"Error! This is not a number. Try again.\")\n",
    "\n",
    "        # When successfully converted to an integer,\n",
    "        # the loop will end.\n",
    "        else:\n",
    "            print(\"Impressive,\", test4word, \"! You spent\", test4num*60, \"minutes or\", test4num*60*60, \"seconds using your smartphone!\")\n",
    "            break\n",
    "\n",
    "# The function is called\n",
    "example()"
   ]
  },
  {
   "cell_type": "code",
   "execution_count": null,
   "id": "8c675189",
   "metadata": {},
   "outputs": [],
   "source": []
  }
 ],
 "metadata": {
  "kernelspec": {
   "display_name": "Python 3 (ipykernel)",
   "language": "python",
   "name": "python3"
  },
  "language_info": {
   "codemirror_mode": {
    "name": "ipython",
    "version": 3
   },
   "file_extension": ".py",
   "mimetype": "text/x-python",
   "name": "python",
   "nbconvert_exporter": "python",
   "pygments_lexer": "ipython3",
   "version": "3.9.13"
  }
 },
 "nbformat": 4,
 "nbformat_minor": 5
}
