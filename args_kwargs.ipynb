{
 "cells": [
  {
   "cell_type": "code",
   "execution_count": 1,
   "id": "10ddd6f3",
   "metadata": {},
   "outputs": [],
   "source": [
    "def print_args(*args): \n",
    "    for arg in args: \n",
    "        print(arg)"
   ]
  },
  {
   "cell_type": "code",
   "execution_count": 2,
   "id": "9080d14a",
   "metadata": {},
   "outputs": [
    {
     "name": "stdout",
     "output_type": "stream",
     "text": [
      "1\n",
      "2\n",
      "3\n"
     ]
    }
   ],
   "source": [
    "print_args(1,2,3)"
   ]
  },
  {
   "cell_type": "code",
   "execution_count": 3,
   "id": "a6e4e161",
   "metadata": {},
   "outputs": [
    {
     "name": "stdout",
     "output_type": "stream",
     "text": [
      "hello\n",
      "Pune\n",
      "great\n"
     ]
    }
   ],
   "source": [
    "print_args(\"hello\", \"Pune\", \"great\")"
   ]
  },
  {
   "cell_type": "code",
   "execution_count": 4,
   "id": "305af89d",
   "metadata": {},
   "outputs": [],
   "source": [
    "def print_kwargs(**kwargs): \n",
    "    for key, value in kwargs.items(): \n",
    "        print(f\"{key}: {value}\")"
   ]
  },
  {
   "cell_type": "code",
   "execution_count": 5,
   "id": "369f70e5",
   "metadata": {},
   "outputs": [],
   "source": [
    "marks = {'Eng': 10, 'Maths':20}"
   ]
  },
  {
   "cell_type": "code",
   "execution_count": 7,
   "id": "20dba534",
   "metadata": {},
   "outputs": [
    {
     "name": "stdout",
     "output_type": "stream",
     "text": [
      "Eng: 10\n",
      "Maths: 20\n"
     ]
    }
   ],
   "source": [
    "print_kwargs(**marks)  #unpack a dictionary"
   ]
  },
  {
   "cell_type": "code",
   "execution_count": 8,
   "id": "4375342d",
   "metadata": {},
   "outputs": [
    {
     "name": "stdout",
     "output_type": "stream",
     "text": [
      "a: 10\n",
      "b: 20\n",
      "c: 30\n"
     ]
    }
   ],
   "source": [
    "print_kwargs(a=10, b=20, c=30)"
   ]
  },
  {
   "cell_type": "code",
   "execution_count": null,
   "id": "fd85486d",
   "metadata": {},
   "outputs": [],
   "source": []
  }
 ],
 "metadata": {
  "kernelspec": {
   "display_name": "Python 3 (ipykernel)",
   "language": "python",
   "name": "python3"
  },
  "language_info": {
   "codemirror_mode": {
    "name": "ipython",
    "version": 3
   },
   "file_extension": ".py",
   "mimetype": "text/x-python",
   "name": "python",
   "nbconvert_exporter": "python",
   "pygments_lexer": "ipython3",
   "version": "3.11.5"
  }
 },
 "nbformat": 4,
 "nbformat_minor": 5
}
