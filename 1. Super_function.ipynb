{
 "cells": [
  {
   "cell_type": "code",
   "execution_count": 13,
   "id": "dfd212d2",
   "metadata": {},
   "outputs": [
    {
     "name": "stdout",
     "output_type": "stream",
     "text": [
      "{'v1': 100, 'v2': 40, 'idd': 11}\n"
     ]
    }
   ],
   "source": [
    "class company:\n",
    "    def __init__(self, v1, v2): \n",
    "        self.v1 = v1*v1 \n",
    "        self.v2 = v2+v2\n",
    "class add:\n",
    "    def __init__(self,b1,b2): \n",
    "        self.b1 =  b1**2\n",
    "        self.b2 = b2**3 \n",
    "class emp(company, add): \n",
    "    def __init__(self, n1,n2, idd): \n",
    "        super().__init__(n1, n2)\n",
    "        self.idd =idd\n",
    "\n",
    "e1= emp(10, 20, 11)\n",
    "print(vars(e1))"
   ]
  },
  {
   "cell_type": "code",
   "execution_count": 14,
   "id": "4b5179f9",
   "metadata": {},
   "outputs": [
    {
     "name": "stdout",
     "output_type": "stream",
     "text": [
      "{'b1': 100, 'b2': 8000, 'idd': 11}\n"
     ]
    }
   ],
   "source": [
    "class company:\n",
    "    def __init__(self, v1, v2): \n",
    "        self.v1 = v1*v1 \n",
    "        self.v2 = v2+v2\n",
    "class add:\n",
    "    def __init__(self,b1,b2): \n",
    "        self.b1 =  b1**2\n",
    "        self.b2 = b2**3 \n",
    "class emp(add, company): \n",
    "    def __init__(self, n1,n2, idd): \n",
    "        super().__init__(n1, n2)\n",
    "        self.idd =idd\n",
    "\n",
    "e1= emp(10, 20, 11)\n",
    "print(vars(e1))"
   ]
  },
  {
   "cell_type": "code",
   "execution_count": 19,
   "id": "57ba9179",
   "metadata": {},
   "outputs": [
    {
     "name": "stdout",
     "output_type": "stream",
     "text": [
      "{'v1': 100, 'v2': 40, 'b1': 100, 'b2': 8000, 'idd': 11}\n"
     ]
    }
   ],
   "source": [
    "class company:\n",
    "    def __init__(self, v1, v2): \n",
    "        self.v1 = v1 * v1 \n",
    "        self.v2 = v2 + v2\n",
    "\n",
    "class add:\n",
    "    def __init__(self, b1, b2): \n",
    "        self.b1 = b1 ** 2\n",
    "        self.b2 = b2 ** 3\n",
    "\n",
    "class emp(company, add):  \n",
    "    def __init__(self, n1, n2, idd): \n",
    "        company.__init__(self, n1, n2)\n",
    "        add.__init__(self, n1, n2)\n",
    "        self.idd = idd\n",
    "\n",
    "e1 = emp(10, 20, 11)\n",
    "print(vars(e1))"
   ]
  }
 ],
 "metadata": {
  "kernelspec": {
   "display_name": "Python 3 (ipykernel)",
   "language": "python",
   "name": "python3"
  },
  "language_info": {
   "codemirror_mode": {
    "name": "ipython",
    "version": 3
   },
   "file_extension": ".py",
   "mimetype": "text/x-python",
   "name": "python",
   "nbconvert_exporter": "python",
   "pygments_lexer": "ipython3",
   "version": "3.9.13"
  }
 },
 "nbformat": 4,
 "nbformat_minor": 5
}
